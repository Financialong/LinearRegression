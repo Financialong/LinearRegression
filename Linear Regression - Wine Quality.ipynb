{
 "cells": [
  {
   "cell_type": "markdown",
   "metadata": {},
   "source": [
    "## Supervised Learning - Regression\n",
    "\n",
    "### Course Project for IBM Course\n",
    "\n",
    "##### Bryan Kwok, 2020/11/10"
   ]
  },
  {
   "cell_type": "markdown",
   "metadata": {},
   "source": [
    "## Introduction \n",
    "\n",
    "In this project, we will take the dataset provided by UCI Machine Learning Repository. We will first introduce and illustrate the content of the wine quality dataset.\n",
    "\n",
    "Then we will show the statistics and some hypthesis we made in this dataset. After performing some simple pearson correlation tests, we will perform the linear regression model in different ways and compare the results. "
   ]
  },
  {
   "cell_type": "markdown",
   "metadata": {},
   "source": [
    "## Data Description\n",
    "\n",
    "The dataset was downloaded from the UCI Machine Learning Repository.\n",
    "\n",
    "The two datasets are related to red and white variants of the Portuguese \"Vinho Verde\" wine. The reference [Cortez et al., 2009]. Due to privacy and logistic issues, only physicochemical (inputs) and sensory (the output) variables are available (e.g. there is no data about grape types, wine brand, wine selling price, etc.). \n",
    "\n",
    "__Attribute Information:__\n",
    "\n",
    "__Input variables__ (based on physicochemical tests):\n",
    "\n",
    "1. fixed acidity\n",
    "2. volatile acidity\n",
    "3. citric acid\n",
    "4. residual sugar\n",
    "5. chlorides\n",
    "6. free sulfur dioxide\n",
    "7. total sulfur dioxide\n",
    "8. density\n",
    "9. pH\n",
    "10. sulphates\n",
    "11. alcohol\n",
    "\n",
    "__Output variable__ (based on sensory data):\n",
    "\n",
    "12. quality (score between 0 and 10)\n",
    "\n",
    "## Main objectives of this analysis\n",
    "\n",
    "- Discover the correlations of different variables\n",
    "- Test and find the errors of different Linear Regression Models\n",
    "- Perform cross validation using SciKit Learn with `cross_val_predict` and `GridSearchCV`\n"
   ]
  },
  {
   "cell_type": "markdown",
   "metadata": {},
   "source": [
    "### Step 1: Getting and setting up the data."
   ]
  },
  {
   "cell_type": "code",
   "execution_count": 185,
   "metadata": {},
   "outputs": [],
   "source": [
    "### Install the libraries required in this project\n",
    "\n",
    "import numpy as np\n",
    "import pandas as pd\n",
    "from pandas import Series,DataFrame\n",
    "\n",
    "#Ploting libraries\n",
    "import matplotlib.pyplot as plt\n",
    "import seaborn as sns\n",
    "sns.set_style('whitegrid')\n",
    "%matplotlib inline\n",
    "\n",
    "from sklearn.datasets import load_wine\n",
    "from sklearn.preprocessing import StandardScaler, PolynomialFeatures\n",
    "from sklearn.model_selection import KFold, cross_val_predict\n",
    "from sklearn.linear_model import LinearRegression, Lasso, Ridge\n",
    "from sklearn.metrics import r2_score\n",
    "from sklearn.pipeline import Pipeline"
   ]
  },
  {
   "cell_type": "code",
   "execution_count": 186,
   "metadata": {
    "scrolled": false
   },
   "outputs": [
    {
     "data": {
      "text/html": [
       "<div>\n",
       "<style scoped>\n",
       "    .dataframe tbody tr th:only-of-type {\n",
       "        vertical-align: middle;\n",
       "    }\n",
       "\n",
       "    .dataframe tbody tr th {\n",
       "        vertical-align: top;\n",
       "    }\n",
       "\n",
       "    .dataframe thead th {\n",
       "        text-align: right;\n",
       "    }\n",
       "</style>\n",
       "<table border=\"1\" class=\"dataframe\">\n",
       "  <thead>\n",
       "    <tr style=\"text-align: right;\">\n",
       "      <th></th>\n",
       "      <th>fixed acidity</th>\n",
       "      <th>volatile acidity</th>\n",
       "      <th>citric acid</th>\n",
       "      <th>residual sugar</th>\n",
       "      <th>chlorides</th>\n",
       "      <th>free sulfur dioxide</th>\n",
       "      <th>total sulfur dioxide</th>\n",
       "      <th>density</th>\n",
       "      <th>pH</th>\n",
       "      <th>sulphates</th>\n",
       "      <th>alcohol</th>\n",
       "      <th>quality</th>\n",
       "    </tr>\n",
       "  </thead>\n",
       "  <tbody>\n",
       "    <tr>\n",
       "      <th>0</th>\n",
       "      <td>7.0</td>\n",
       "      <td>0.27</td>\n",
       "      <td>0.36</td>\n",
       "      <td>20.7</td>\n",
       "      <td>0.045</td>\n",
       "      <td>45.0</td>\n",
       "      <td>170.0</td>\n",
       "      <td>1.0010</td>\n",
       "      <td>3.00</td>\n",
       "      <td>0.45</td>\n",
       "      <td>8.8</td>\n",
       "      <td>6</td>\n",
       "    </tr>\n",
       "    <tr>\n",
       "      <th>1</th>\n",
       "      <td>6.3</td>\n",
       "      <td>0.30</td>\n",
       "      <td>0.34</td>\n",
       "      <td>1.6</td>\n",
       "      <td>0.049</td>\n",
       "      <td>14.0</td>\n",
       "      <td>132.0</td>\n",
       "      <td>0.9940</td>\n",
       "      <td>3.30</td>\n",
       "      <td>0.49</td>\n",
       "      <td>9.5</td>\n",
       "      <td>6</td>\n",
       "    </tr>\n",
       "    <tr>\n",
       "      <th>2</th>\n",
       "      <td>8.1</td>\n",
       "      <td>0.28</td>\n",
       "      <td>0.40</td>\n",
       "      <td>6.9</td>\n",
       "      <td>0.050</td>\n",
       "      <td>30.0</td>\n",
       "      <td>97.0</td>\n",
       "      <td>0.9951</td>\n",
       "      <td>3.26</td>\n",
       "      <td>0.44</td>\n",
       "      <td>10.1</td>\n",
       "      <td>6</td>\n",
       "    </tr>\n",
       "    <tr>\n",
       "      <th>3</th>\n",
       "      <td>7.2</td>\n",
       "      <td>0.23</td>\n",
       "      <td>0.32</td>\n",
       "      <td>8.5</td>\n",
       "      <td>0.058</td>\n",
       "      <td>47.0</td>\n",
       "      <td>186.0</td>\n",
       "      <td>0.9956</td>\n",
       "      <td>3.19</td>\n",
       "      <td>0.40</td>\n",
       "      <td>9.9</td>\n",
       "      <td>6</td>\n",
       "    </tr>\n",
       "    <tr>\n",
       "      <th>4</th>\n",
       "      <td>7.2</td>\n",
       "      <td>0.23</td>\n",
       "      <td>0.32</td>\n",
       "      <td>8.5</td>\n",
       "      <td>0.058</td>\n",
       "      <td>47.0</td>\n",
       "      <td>186.0</td>\n",
       "      <td>0.9956</td>\n",
       "      <td>3.19</td>\n",
       "      <td>0.40</td>\n",
       "      <td>9.9</td>\n",
       "      <td>6</td>\n",
       "    </tr>\n",
       "  </tbody>\n",
       "</table>\n",
       "</div>"
      ],
      "text/plain": [
       "   fixed acidity  volatile acidity  citric acid  residual sugar  chlorides  \\\n",
       "0            7.0              0.27         0.36            20.7      0.045   \n",
       "1            6.3              0.30         0.34             1.6      0.049   \n",
       "2            8.1              0.28         0.40             6.9      0.050   \n",
       "3            7.2              0.23         0.32             8.5      0.058   \n",
       "4            7.2              0.23         0.32             8.5      0.058   \n",
       "\n",
       "   free sulfur dioxide  total sulfur dioxide  density    pH  sulphates  \\\n",
       "0                 45.0                 170.0   1.0010  3.00       0.45   \n",
       "1                 14.0                 132.0   0.9940  3.30       0.49   \n",
       "2                 30.0                  97.0   0.9951  3.26       0.44   \n",
       "3                 47.0                 186.0   0.9956  3.19       0.40   \n",
       "4                 47.0                 186.0   0.9956  3.19       0.40   \n",
       "\n",
       "   alcohol  quality  \n",
       "0      8.8        6  \n",
       "1      9.5        6  \n",
       "2     10.1        6  \n",
       "3      9.9        6  \n",
       "4      9.9        6  "
      ]
     },
     "execution_count": 186,
     "metadata": {},
     "output_type": "execute_result"
    }
   ],
   "source": [
    "filepath = \"wine.csv\"\n",
    "df = pd.read_csv(filepath)\n",
    "df.head()"
   ]
  },
  {
   "cell_type": "markdown",
   "metadata": {},
   "source": [
    "### Step 2: Visualizing current data\n",
    "\n",
    "We will do some quick visualization for the data we have. Let's go with the histogram of each attributes and see the distributions."
   ]
  },
  {
   "cell_type": "code",
   "execution_count": 187,
   "metadata": {},
   "outputs": [
    {
     "data": {
      "text/plain": [
       "<matplotlib.axes._subplots.AxesSubplot at 0x20b11b6eef0>"
      ]
     },
     "execution_count": 187,
     "metadata": {},
     "output_type": "execute_result"
    },
    {
     "data": {
      "image/png": "[encoded data removed]",
      "text/plain": [
       "<Figure size 576x432 with 1 Axes>"
      ]
     },
     "metadata": {
      "needs_background": "light"
     },
     "output_type": "display_data"
    }
   ],
   "source": [
    "df_col_names = df.columns\n",
    "#for i in range(len(df_col_names)):\n",
    "#    fig = plt.figure(figsize = (10,6))\n",
    "#    sns.barplot(x = df_col_names[i], y = 'alcohol', data = df)\n",
    "fig = plt.figure(figsize = (8,6))\n",
    "sns.barplot(x = 'quality', y = 'alcohol', data = df)"
   ]
  },
  {
   "cell_type": "code",
   "execution_count": 188,
   "metadata": {
    "scrolled": false
   },
   "outputs": [
    {
     "data": {
      "image/png": "[encoded data removed]",
      "text/plain": [
       "<Figure size 1080x1080 with 12 Axes>"
      ]
     },
     "metadata": {
      "needs_background": "light"
     },
     "output_type": "display_data"
    }
   ],
   "source": [
    "axList = df.hist(bins=15, alpha=0.75,figsize=(15,15))\n",
    "\n",
    "# Add some y- labels to first column\n",
    "for ax in axList.flatten():\n",
    "    if ax.is_first_col():\n",
    "        ax.set_ylabel('Frequency')\n",
    "plt.show()"
   ]
  },
  {
   "cell_type": "markdown",
   "metadata": {},
   "source": [
    "We can also do some corrleations and heatmap to check out the correlations of different variables in the dataset."
   ]
  },
  {
   "cell_type": "code",
   "execution_count": 189,
   "metadata": {},
   "outputs": [
    {
     "data": {
      "image/png": "[encoded data removed]",
      "text/plain": [
       "<Figure size 1152x864 with 2 Axes>"
      ]
     },
     "metadata": {
      "needs_background": "light"
     },
     "output_type": "display_data"
    }
   ],
   "source": [
    "my_corr = df.corr()\n",
    "fig, ax = plt.subplots(figsize=(16,12))\n",
    "sns.heatmap(my_corr,cmap ='coolwarm',annot=True,linewidths=.25,ax=ax)\n",
    "ax.set_title(\"Correlation plots between 13 variables in wine\",size=\"24\")\n",
    "plt.show()"
   ]
  },
  {
   "cell_type": "markdown",
   "metadata": {
    "scrolled": true
   },
   "source": [
    "From correlation plot, it is shown that density has relatively higher correlation to residual sugar and alcohol.\n",
    "\n",
    "The correlation table of the variables is shown below:"
   ]
  },
  {
   "cell_type": "code",
   "execution_count": 190,
   "metadata": {
    "scrolled": true
   },
   "outputs": [
    {
     "data": {
      "text/plain": [
       "quality                 1.000000\n",
       "alcohol                 0.435575\n",
       "pH                      0.099427\n",
       "sulphates               0.053678\n",
       "free sulfur dioxide     0.008158\n",
       "citric acid            -0.009209\n",
       "residual sugar         -0.097577\n",
       "fixed acidity          -0.113663\n",
       "total sulfur dioxide   -0.174737\n",
       "volatile acidity       -0.194723\n",
       "chlorides              -0.209934\n",
       "density                -0.307123\n",
       "Name: quality, dtype: float64"
      ]
     },
     "execution_count": 190,
     "metadata": {},
     "output_type": "execute_result"
    }
   ],
   "source": [
    "my_corr['quality'].sort_values(ascending=False)"
   ]
  },
  {
   "cell_type": "markdown",
   "metadata": {},
   "source": [
    "The features with near 0 correlation to the wine quality will be dropped. The new dataframe will be saved as below:"
   ]
  },
  {
   "cell_type": "code",
   "execution_count": 191,
   "metadata": {
    "scrolled": true
   },
   "outputs": [
    {
     "data": {
      "text/html": [
       "<div>\n",
       "<style scoped>\n",
       "    .dataframe tbody tr th:only-of-type {\n",
       "        vertical-align: middle;\n",
       "    }\n",
       "\n",
       "    .dataframe tbody tr th {\n",
       "        vertical-align: top;\n",
       "    }\n",
       "\n",
       "    .dataframe thead th {\n",
       "        text-align: right;\n",
       "    }\n",
       "</style>\n",
       "<table border=\"1\" class=\"dataframe\">\n",
       "  <thead>\n",
       "    <tr style=\"text-align: right;\">\n",
       "      <th></th>\n",
       "      <th>fixed acidity</th>\n",
       "      <th>volatile acidity</th>\n",
       "      <th>residual sugar</th>\n",
       "      <th>chlorides</th>\n",
       "      <th>total sulfur dioxide</th>\n",
       "      <th>density</th>\n",
       "      <th>pH</th>\n",
       "      <th>sulphates</th>\n",
       "      <th>alcohol</th>\n",
       "      <th>quality</th>\n",
       "    </tr>\n",
       "  </thead>\n",
       "  <tbody>\n",
       "    <tr>\n",
       "      <th>0</th>\n",
       "      <td>7.0</td>\n",
       "      <td>0.27</td>\n",
       "      <td>20.7</td>\n",
       "      <td>0.045</td>\n",
       "      <td>170.0</td>\n",
       "      <td>1.0010</td>\n",
       "      <td>3.00</td>\n",
       "      <td>0.45</td>\n",
       "      <td>8.8</td>\n",
       "      <td>6</td>\n",
       "    </tr>\n",
       "    <tr>\n",
       "      <th>1</th>\n",
       "      <td>6.3</td>\n",
       "      <td>0.30</td>\n",
       "      <td>1.6</td>\n",
       "      <td>0.049</td>\n",
       "      <td>132.0</td>\n",
       "      <td>0.9940</td>\n",
       "      <td>3.30</td>\n",
       "      <td>0.49</td>\n",
       "      <td>9.5</td>\n",
       "      <td>6</td>\n",
       "    </tr>\n",
       "    <tr>\n",
       "      <th>2</th>\n",
       "      <td>8.1</td>\n",
       "      <td>0.28</td>\n",
       "      <td>6.9</td>\n",
       "      <td>0.050</td>\n",
       "      <td>97.0</td>\n",
       "      <td>0.9951</td>\n",
       "      <td>3.26</td>\n",
       "      <td>0.44</td>\n",
       "      <td>10.1</td>\n",
       "      <td>6</td>\n",
       "    </tr>\n",
       "    <tr>\n",
       "      <th>3</th>\n",
       "      <td>7.2</td>\n",
       "      <td>0.23</td>\n",
       "      <td>8.5</td>\n",
       "      <td>0.058</td>\n",
       "      <td>186.0</td>\n",
       "      <td>0.9956</td>\n",
       "      <td>3.19</td>\n",
       "      <td>0.40</td>\n",
       "      <td>9.9</td>\n",
       "      <td>6</td>\n",
       "    </tr>\n",
       "    <tr>\n",
       "      <th>4</th>\n",
       "      <td>7.2</td>\n",
       "      <td>0.23</td>\n",
       "      <td>8.5</td>\n",
       "      <td>0.058</td>\n",
       "      <td>186.0</td>\n",
       "      <td>0.9956</td>\n",
       "      <td>3.19</td>\n",
       "      <td>0.40</td>\n",
       "      <td>9.9</td>\n",
       "      <td>6</td>\n",
       "    </tr>\n",
       "  </tbody>\n",
       "</table>\n",
       "</div>"
      ],
      "text/plain": [
       "   fixed acidity  volatile acidity  residual sugar  chlorides  \\\n",
       "0            7.0              0.27            20.7      0.045   \n",
       "1            6.3              0.30             1.6      0.049   \n",
       "2            8.1              0.28             6.9      0.050   \n",
       "3            7.2              0.23             8.5      0.058   \n",
       "4            7.2              0.23             8.5      0.058   \n",
       "\n",
       "   total sulfur dioxide  density    pH  sulphates  alcohol  quality  \n",
       "0                 170.0   1.0010  3.00       0.45      8.8        6  \n",
       "1                 132.0   0.9940  3.30       0.49      9.5        6  \n",
       "2                  97.0   0.9951  3.26       0.44     10.1        6  \n",
       "3                 186.0   0.9956  3.19       0.40      9.9        6  \n",
       "4                 186.0   0.9956  3.19       0.40      9.9        6  "
      ]
     },
     "execution_count": 191,
     "metadata": {},
     "output_type": "execute_result"
    }
   ],
   "source": [
    "df_copy = df.copy()\n",
    "\n",
    "df.drop(['free sulfur dioxide', 'citric acid'], axis=1, inplace=True)\n",
    "df.head()"
   ]
  },
  {
   "cell_type": "markdown",
   "metadata": {},
   "source": [
    "### Linear Regression Model\n",
    "\n",
    "We will use scikit learn to do a multi variable regression. We will start with importing the linear regression library from the sklearn module."
   ]
  },
  {
   "cell_type": "code",
   "execution_count": 192,
   "metadata": {},
   "outputs": [],
   "source": [
    "# Import for Linear Regression\n",
    "import sklearn\n",
    "from sklearn.linear_model import LinearRegression"
   ]
  },
  {
   "cell_type": "code",
   "execution_count": 193,
   "metadata": {},
   "outputs": [],
   "source": [
    "# Create a LinearRegression Object\n",
    "lreg = LinearRegression()"
   ]
  },
  {
   "cell_type": "markdown",
   "metadata": {},
   "source": [
    "We start the multi variable regression analysis by seperating the dataframe into the data columns and the target columns:"
   ]
  },
  {
   "cell_type": "code",
   "execution_count": 194,
   "metadata": {},
   "outputs": [],
   "source": [
    "# Data Columns\n",
    "X_multi = df.drop('quality',1)\n",
    "\n",
    "# Targets\n",
    "Y_target = df.quality"
   ]
  },
  {
   "cell_type": "markdown",
   "metadata": {},
   "source": [
    "Finally, we pass the X and Y using the linear regression object. And we can check the intercept and number of coefficients.\n",
    "\n"
   ]
  },
  {
   "cell_type": "code",
   "execution_count": 195,
   "metadata": {
    "scrolled": true
   },
   "outputs": [
    {
     "data": {
      "text/plain": [
       "LinearRegression(copy_X=True, fit_intercept=True, n_jobs=None, normalize=False)"
      ]
     },
     "execution_count": 195,
     "metadata": {},
     "output_type": "execute_result"
    }
   ],
   "source": [
    "# Implement Linear Regression\n",
    "lreg.fit(X_multi,Y_target)"
   ]
  },
  {
   "cell_type": "code",
   "execution_count": 196,
   "metadata": {},
   "outputs": [
    {
     "name": "stdout",
     "output_type": "stream",
     "text": [
      " The estimated intercept coefficient is 162.79 \n",
      " The number of coefficients used was 9 \n"
     ]
    }
   ],
   "source": [
    "print(' The estimated intercept coefficient is %.2f ' %lreg.intercept_)\n",
    "print(' The number of coefficients used was %d ' % len(lreg.coef_))"
   ]
  },
  {
   "cell_type": "markdown",
   "metadata": {},
   "source": [
    "The dataframe of all variables and estimated coeifficents obtained from the linear regression is computed as below:"
   ]
  },
  {
   "cell_type": "code",
   "execution_count": 197,
   "metadata": {
    "scrolled": true
   },
   "outputs": [
    {
     "data": {
      "text/html": [
       "<div>\n",
       "<style scoped>\n",
       "    .dataframe tbody tr th:only-of-type {\n",
       "        vertical-align: middle;\n",
       "    }\n",
       "\n",
       "    .dataframe tbody tr th {\n",
       "        vertical-align: top;\n",
       "    }\n",
       "\n",
       "    .dataframe thead th {\n",
       "        text-align: right;\n",
       "    }\n",
       "</style>\n",
       "<table border=\"1\" class=\"dataframe\">\n",
       "  <thead>\n",
       "    <tr style=\"text-align: right;\">\n",
       "      <th></th>\n",
       "      <th>Variables</th>\n",
       "      <th>Coefficient Estimate</th>\n",
       "    </tr>\n",
       "  </thead>\n",
       "  <tbody>\n",
       "    <tr>\n",
       "      <th>5</th>\n",
       "      <td>density</td>\n",
       "      <td>-162.938926</td>\n",
       "    </tr>\n",
       "    <tr>\n",
       "      <th>1</th>\n",
       "      <td>volatile acidity</td>\n",
       "      <td>-1.966499</td>\n",
       "    </tr>\n",
       "    <tr>\n",
       "      <th>3</th>\n",
       "      <td>chlorides</td>\n",
       "      <td>-0.153291</td>\n",
       "    </tr>\n",
       "    <tr>\n",
       "      <th>4</th>\n",
       "      <td>total sulfur dioxide</td>\n",
       "      <td>0.000715</td>\n",
       "    </tr>\n",
       "    <tr>\n",
       "      <th>0</th>\n",
       "      <td>fixed acidity</td>\n",
       "      <td>0.066463</td>\n",
       "    </tr>\n",
       "    <tr>\n",
       "      <th>2</th>\n",
       "      <td>residual sugar</td>\n",
       "      <td>0.087308</td>\n",
       "    </tr>\n",
       "    <tr>\n",
       "      <th>8</th>\n",
       "      <td>alcohol</td>\n",
       "      <td>0.183702</td>\n",
       "    </tr>\n",
       "    <tr>\n",
       "      <th>7</th>\n",
       "      <td>sulphates</td>\n",
       "      <td>0.637732</td>\n",
       "    </tr>\n",
       "    <tr>\n",
       "      <th>6</th>\n",
       "      <td>pH</td>\n",
       "      <td>0.707265</td>\n",
       "    </tr>\n",
       "    <tr>\n",
       "      <th>9</th>\n",
       "      <td>quality</td>\n",
       "      <td>NaN</td>\n",
       "    </tr>\n",
       "  </tbody>\n",
       "</table>\n",
       "</div>"
      ],
      "text/plain": [
       "              Variables  Coefficient Estimate\n",
       "5               density           -162.938926\n",
       "1      volatile acidity             -1.966499\n",
       "3             chlorides             -0.153291\n",
       "4  total sulfur dioxide              0.000715\n",
       "0         fixed acidity              0.066463\n",
       "2        residual sugar              0.087308\n",
       "8               alcohol              0.183702\n",
       "7             sulphates              0.637732\n",
       "6                    pH              0.707265\n",
       "9               quality                   NaN"
      ]
     },
     "execution_count": 197,
     "metadata": {},
     "output_type": "execute_result"
    }
   ],
   "source": [
    "# Set a DataFrame from the Features\n",
    "coeff_df = DataFrame(df.columns)\n",
    "coeff_df.columns = ['Variables']\n",
    "\n",
    "# Set a new column lining up the coefficients from the linear regression\n",
    "coeff_df[\"Coefficient Estimate\"] = pd.Series(lreg.coef_)\n",
    "\n",
    "# Show\n",
    "coeff_df.sort_values(by=\"Coefficient Estimate\",ascending=True)"
   ]
  },
  {
   "cell_type": "markdown",
   "metadata": {},
   "source": [
    "After using the whole dataset as the linear regression model, we will try to build another model by using training and validation. A training set is implemented to build up a model, while a validation set is used to validate the model built.\n",
    "\n",
    "A scikit learn has a built in function specifically for this called train_test_split."
   ]
  },
  {
   "cell_type": "code",
   "execution_count": 198,
   "metadata": {},
   "outputs": [],
   "source": [
    "X_train, X_test, Y_train, Y_test = sklearn.model_selection.train_test_split(X_multi,df.quality)"
   ]
  },
  {
   "cell_type": "markdown",
   "metadata": {},
   "source": [
    "\n",
    "\n",
    "The output of the train_test_split will be alike:\n"
   ]
  },
  {
   "cell_type": "code",
   "execution_count": 199,
   "metadata": {
    "scrolled": false
   },
   "outputs": [
    {
     "name": "stdout",
     "output_type": "stream",
     "text": [
      "(3673, 9) (1225, 9) (3673,) (1225,)\n"
     ]
    }
   ],
   "source": [
    "print(X_train.shape, X_test.shape, Y_train.shape, Y_test.shape)"
   ]
  },
  {
   "cell_type": "markdown",
   "metadata": {},
   "source": [
    "After having the training and testing sets, these sets are used to predict the quality of wine."
   ]
  },
  {
   "cell_type": "code",
   "execution_count": 200,
   "metadata": {
    "scrolled": true
   },
   "outputs": [
    {
     "data": {
      "text/plain": [
       "LinearRegression(copy_X=True, fit_intercept=True, n_jobs=None, normalize=False)"
      ]
     },
     "execution_count": 200,
     "metadata": {},
     "output_type": "execute_result"
    }
   ],
   "source": [
    "# Create our regression object\n",
    "lreg = LinearRegression()\n",
    "\n",
    "# Once again do a linear regression, except only on the training sets this time\n",
    "lreg.fit(X_train,Y_train)"
   ]
  },
  {
   "cell_type": "markdown",
   "metadata": {},
   "source": [
    "We will run a prediction on both the X training set and the testing set.\n"
   ]
  },
  {
   "cell_type": "code",
   "execution_count": 201,
   "metadata": {},
   "outputs": [],
   "source": [
    "# Predictions on training and testing sets\n",
    "pred_train = lreg.predict(X_train)\n",
    "pred_test = lreg.predict(X_test)"
   ]
  },
  {
   "cell_type": "markdown",
   "metadata": {},
   "source": [
    "The Mean square error by different sets are shown as below:"
   ]
  },
  {
   "cell_type": "code",
   "execution_count": 202,
   "metadata": {
    "scrolled": false
   },
   "outputs": [
    {
     "name": "stdout",
     "output_type": "stream",
     "text": [
      "Fit a model X_train, and calculate MSE with Y_train: 0.58\n",
      "Fit a model X_train, and calculate MSE with X_test and Y_test: 0.52\n"
     ]
    }
   ],
   "source": [
    "print(\"Fit a model X_train, and calculate MSE with Y_train: %.2f\"  % np.mean((Y_train - pred_train) ** 2))\n",
    "    \n",
    "print(\"Fit a model X_train, and calculate MSE with X_test and Y_test: %.2f\"  %np.mean((Y_test - pred_test) ** 2))"
   ]
  },
  {
   "cell_type": "markdown",
   "metadata": {},
   "source": [
    "## Visualization of residual plots\n",
    "\n",
    "We will try to visualize the residual plots in the training sets and testing sets respectively. The pattern is shown as below:"
   ]
  },
  {
   "cell_type": "code",
   "execution_count": 205,
   "metadata": {
    "scrolled": true
   },
   "outputs": [
    {
     "data": {
      "text/plain": [
       "<matplotlib.legend.Legend at 0x20b12380b70>"
      ]
     },
     "execution_count": 205,
     "metadata": {},
     "output_type": "execute_result"
    },
    {
     "data": {
      "image/png": "[encoded data removed]",
      "text/plain": [
       "<Figure size 576x432 with 1 Axes>"
      ]
     },
     "metadata": {
      "needs_background": "light"
     },
     "output_type": "display_data"
    }
   ],
   "source": [
    "plt.figure(figsize=(8, 6))\n",
    "\n",
    "# Scatter plot the training data\n",
    "\n",
    "train = plt.scatter(pred_train,(Y_train-pred_train),c='b',alpha=0.5)\n",
    "\n",
    "# Scatter plot the testing data\n",
    "test = plt.scatter(pred_test,(Y_test-pred_test),c='r',alpha=0.5)\n",
    "\n",
    "# Plot a horizontal axis line at 0\n",
    "plt.hlines(y=0,xmin=3,xmax=7.5)\n",
    "\n",
    "#Labels\n",
    "plt.legend((train,test),('Training','Test'),loc='lower left')\n",
    "#plt.title('Residual Plots of training and testing set for comparison')"
   ]
  },
  {
   "cell_type": "markdown",
   "metadata": {},
   "source": [
    "It seems that there aren't any patterns in the residual plots. The residuals are randomly allocated. If we try to seperate the residual plots into two plots, the patterns are quite similar."
   ]
  },
  {
   "cell_type": "code",
   "execution_count": 209,
   "metadata": {
    "scrolled": true
   },
   "outputs": [
    {
     "data": {
      "image/png": "[encoded data removed]",
      "text/plain": [
       "<Figure size 864x432 with 2 Axes>"
      ]
     },
     "metadata": {
      "needs_background": "light"
     },
     "output_type": "display_data"
    }
   ],
   "source": [
    "plt.figure(figsize=(12, 6))\n",
    "plt.subplot(1, 2, 1)\n",
    "train = plt.scatter(pred_train,(Y_train-pred_train),c='b',alpha=0.5)\n",
    "plt.hlines(y=0,xmin=3,xmax=7.5)\n",
    "#plt.title(\"Residual Error in Training set\")\n",
    "plt.subplot(1, 2, 2)\n",
    "test = plt.scatter(pred_test,(Y_test-pred_test),c='r',alpha=0.5)\n",
    "plt.hlines(y=0,xmin=3,xmax=7.5)\n",
    "#plt.title(\"Residual Error in Testing set\")\n",
    "fig.tight_layout()"
   ]
  },
  {
   "cell_type": "code",
   "execution_count": 211,
   "metadata": {},
   "outputs": [
    {
     "data": {
      "text/plain": [
       "<matplotlib.collections.PathCollection at 0x20b125046a0>"
      ]
     },
     "execution_count": 211,
     "metadata": {},
     "output_type": "execute_result"
    },
    {
     "data": {
      "image/png": "[encoded data removed]",
      "text/plain": [
       "<Figure size 576x432 with 1 Axes>"
      ]
     },
     "metadata": {
      "needs_background": "light"
     },
     "output_type": "display_data"
    }
   ],
   "source": [
    "#Residual plot of all the dataset\n",
    "plt.figure(figsize=(8, 6))\n",
    "plt.scatter(pred_train,(Y_train-pred_train),c='tab:blue',alpha=0.5)\n",
    "plt.scatter(pred_test,(Y_test-pred_test),c='tab:blue',alpha=0.5)\n",
    "#plt.title(\"Residual plot of all the data in Wine\")\n"
   ]
  },
  {
   "cell_type": "markdown",
   "metadata": {},
   "source": [
    "### Cross Validation \n",
    "\n",
    "After we split the overall data into training and testing set, we can further use the `KFolds` object to split data into 3 folds."
   ]
  },
  {
   "cell_type": "code",
   "execution_count": 212,
   "metadata": {},
   "outputs": [],
   "source": [
    "kf = KFold(shuffle=True, random_state=72018, n_splits=5)"
   ]
  },
  {
   "cell_type": "code",
   "execution_count": 213,
   "metadata": {},
   "outputs": [],
   "source": [
    "X = df.drop('quality', axis=1)\n",
    "y = df.quality\n",
    "scores = []\n",
    "\n",
    "lr = LinearRegression()\n",
    "s = StandardScaler()\n",
    "\n",
    "for train_index, test_index in kf.split(X):\n",
    "    X_train, X_test, y_train, y_test = (X.iloc[train_index, :], \n",
    "                                        X.iloc[test_index, :], \n",
    "                                        y[train_index], \n",
    "                                        y[test_index])\n",
    "    \n",
    "    X_train_s = s.fit_transform(X_train)\n",
    "    \n",
    "    lr.fit(X_train_s, y_train)\n",
    "    \n",
    "    X_test_s = s.transform(X_test)\n",
    "    \n",
    "    y_pred = lr.predict(X_test_s)\n",
    "\n",
    "    score = r2_score(y_test.values, y_pred)\n",
    "    \n",
    "    scores.append(score)"
   ]
  },
  {
   "cell_type": "code",
   "execution_count": 214,
   "metadata": {
    "scrolled": false
   },
   "outputs": [
    {
     "data": {
      "text/plain": [
       "[0.22634532442087307,\n",
       " 0.3161107169166346,\n",
       " 0.3109874364562101,\n",
       " 0.2535342838351633,\n",
       " 0.24108771839904797]"
      ]
     },
     "execution_count": 214,
     "metadata": {},
     "output_type": "execute_result"
    }
   ],
   "source": [
    "scores"
   ]
  },
  {
   "cell_type": "markdown",
   "metadata": {},
   "source": [
    "### Pipeline and cross_val_predict\n",
    "\n",
    "Pipeline lets you chain together multiple operators on your data that both have a fit method."
   ]
  },
  {
   "cell_type": "code",
   "execution_count": 215,
   "metadata": {},
   "outputs": [],
   "source": [
    "s = StandardScaler()\n",
    "lr = LinearRegression()"
   ]
  },
  {
   "cell_type": "code",
   "execution_count": 216,
   "metadata": {},
   "outputs": [],
   "source": [
    "estimator = Pipeline([(\"scaler\", s),\n",
    "                      (\"regression\", lr)])"
   ]
  },
  {
   "cell_type": "code",
   "execution_count": 217,
   "metadata": {},
   "outputs": [],
   "source": [
    "predictions = cross_val_predict(estimator, X, y, cv=kf)"
   ]
  },
  {
   "cell_type": "code",
   "execution_count": 218,
   "metadata": {},
   "outputs": [
    {
     "data": {
      "text/plain": [
       "0.27073210179874074"
      ]
     },
     "execution_count": 218,
     "metadata": {},
     "output_type": "execute_result"
    }
   ],
   "source": [
    "r2_score(y, predictions)"
   ]
  },
  {
   "cell_type": "code",
   "execution_count": 219,
   "metadata": {},
   "outputs": [
    {
     "data": {
      "text/plain": [
       "0.2696130960055858"
      ]
     },
     "execution_count": 219,
     "metadata": {},
     "output_type": "execute_result"
    }
   ],
   "source": [
    "np.mean(scores) # almost identical!"
   ]
  },
  {
   "cell_type": "markdown",
   "metadata": {},
   "source": [
    "Note that `cross_val_predict` doesn't use the same model for all steps; the predictions for each row are made when that row is in the validation set. We really have the collected results of 3 (i.e. `kf.num_splits`) different models. \n",
    "\n",
    "When we are done, `estimator` is still not fitted. If we want to predict on _new_ data, we still have to train our `estimator`. "
   ]
  },
  {
   "cell_type": "markdown",
   "metadata": {},
   "source": [
    "## Hyperparameter tuning\n",
    "\n",
    "Hyperparameter tuning involves using cross validation (or train-test split) to determine which hyperparameters are most likely to generate a model that generalizes well outside of your sample."
   ]
  },
  {
   "cell_type": "code",
   "execution_count": 220,
   "metadata": {
    "scrolled": false
   },
   "outputs": [
    {
     "data": {
      "text/plain": [
       "array([1.e-09, 1.e-08, 1.e-07, 1.e-06, 1.e-05, 1.e-04, 1.e-03, 1.e-02,\n",
       "       1.e-01, 1.e+00])"
      ]
     },
     "execution_count": 220,
     "metadata": {},
     "output_type": "execute_result"
    }
   ],
   "source": [
    "alphas = np.geomspace(1e-9, 1e0, num=10)\n",
    "alphas"
   ]
  },
  {
   "cell_type": "code",
   "execution_count": 221,
   "metadata": {},
   "outputs": [],
   "source": [
    "scores = []\n",
    "coefs = []\n",
    "for alpha in alphas:\n",
    "    las = Lasso(alpha=alpha, max_iter=100000)\n",
    "    \n",
    "    estimator = Pipeline([\n",
    "        (\"scaler\", s),\n",
    "        (\"lasso_regression\", las)])\n",
    "\n",
    "    predictions = cross_val_predict(estimator, X, y, cv = kf)\n",
    "    \n",
    "    score = r2_score(y, predictions)\n",
    "    \n",
    "    scores.append(score)"
   ]
  },
  {
   "cell_type": "code",
   "execution_count": 222,
   "metadata": {
    "scrolled": true
   },
   "outputs": [
    {
     "data": {
      "text/plain": [
       "[(1e-09, 0.27073210261274205),\n",
       " (1e-08, 0.2707321099404624),\n",
       " (1e-07, 0.27073218323029014),\n",
       " (1e-06, 0.27073291576374203),\n",
       " (1e-05, 0.27074023032743155),\n",
       " (0.0001, 0.27081206665612645),\n",
       " (0.001, 0.2713553450509435),\n",
       " (0.01, 0.26891117812284704),\n",
       " (0.1, 0.2112766661254195),\n",
       " (1.0, -0.0006416984197650244)]"
      ]
     },
     "execution_count": 222,
     "metadata": {},
     "output_type": "execute_result"
    }
   ],
   "source": [
    "list(zip(alphas,scores))"
   ]
  },
  {
   "cell_type": "code",
   "execution_count": 223,
   "metadata": {
    "scrolled": true
   },
   "outputs": [
    {
     "data": {
      "text/plain": [
       "array([ 6.40027062e-02, -1.96879434e+00,  8.61741263e-02, -1.65903332e-01,\n",
       "        7.08410608e-04, -1.59872748e+02,  6.96536339e-01,  6.33191116e-01,\n",
       "        1.87183962e-01])"
      ]
     },
     "execution_count": 223,
     "metadata": {},
     "output_type": "execute_result"
    }
   ],
   "source": [
    "Lasso(alpha=1e-6).fit(X, y).coef_"
   ]
  },
  {
   "cell_type": "code",
   "execution_count": 224,
   "metadata": {},
   "outputs": [
    {
     "data": {
      "text/plain": [
       "array([-0.        , -0.        , -0.        , -0.        , -0.00308764,\n",
       "       -0.        ,  0.        ,  0.        ,  0.        ])"
      ]
     },
     "execution_count": 224,
     "metadata": {},
     "output_type": "execute_result"
    }
   ],
   "source": [
    "Lasso(alpha=1.0).fit(X, y).coef_"
   ]
  },
  {
   "cell_type": "code",
   "execution_count": 225,
   "metadata": {},
   "outputs": [
    {
     "data": {
      "image/png": "[encoded data removed]",
      "text/plain": [
       "<Figure size 576x432 with 1 Axes>"
      ]
     },
     "metadata": {
      "needs_background": "light"
     },
     "output_type": "display_data"
    }
   ],
   "source": [
    "plt.figure(figsize=(8,6))\n",
    "plt.semilogx(alphas, scores, '-o')\n",
    "plt.xlabel('$\\\\alpha$')\n",
    "plt.ylabel('$R^2$');"
   ]
  },
  {
   "cell_type": "code",
   "execution_count": 226,
   "metadata": {},
   "outputs": [],
   "source": [
    "pf = PolynomialFeatures(degree=3)\n",
    "\n",
    "scores = []\n",
    "alphas = np.geomspace(0.001, 6.0, 20)\n",
    "for alpha in alphas:\n",
    "    las = Lasso(alpha=alpha, max_iter=100000)\n",
    "    \n",
    "    estimator = Pipeline([\n",
    "        (\"scaler\", s),\n",
    "        (\"make_higher_degree\", pf),\n",
    "        (\"lasso_regression\", las)])\n",
    "\n",
    "    predictions = cross_val_predict(estimator, X, y, cv = kf)\n",
    "    \n",
    "    score = r2_score(y, predictions)\n",
    "    \n",
    "    scores.append(score)\n",
    "    "
   ]
  },
  {
   "cell_type": "code",
   "execution_count": 227,
   "metadata": {
    "scrolled": true
   },
   "outputs": [
    {
     "data": {
      "image/png": "[encoded data removed]",
      "text/plain": [
       "<Figure size 432x288 with 1 Axes>"
      ]
     },
     "metadata": {
      "needs_background": "light"
     },
     "output_type": "display_data"
    }
   ],
   "source": [
    "plt.semilogx(alphas, scores);"
   ]
  },
  {
   "cell_type": "code",
   "execution_count": 228,
   "metadata": {},
   "outputs": [
    {
     "data": {
      "text/plain": [
       "0.276378008809672"
      ]
     },
     "execution_count": 228,
     "metadata": {},
     "output_type": "execute_result"
    }
   ],
   "source": [
    "best_estimator = Pipeline([\n",
    "                    (\"scaler\", s),\n",
    "                    (\"make_higher_degree\", PolynomialFeatures(degree=2)),\n",
    "                    (\"lasso_regression\", Lasso(alpha=0.05))])\n",
    "\n",
    "best_estimator.fit(X, y)\n",
    "best_estimator.score(X, y)"
   ]
  },
  {
   "cell_type": "code",
   "execution_count": 229,
   "metadata": {
    "scrolled": true
   },
   "outputs": [
    {
     "data": {
      "text/plain": [
       "array([ 0.        , -0.        , -0.14304626,  0.        , -0.        ,\n",
       "        0.        , -0.        ,  0.        ,  0.        ,  0.31973838,\n",
       "       -0.02321749, -0.        ,  0.        ,  0.        ,  0.        ,\n",
       "        0.        ,  0.        , -0.        , -0.        , -0.        ,\n",
       "        0.        , -0.        ,  0.        , -0.        ,  0.        ,\n",
       "       -0.        ,  0.04280917, -0.        , -0.        ,  0.        ,\n",
       "        0.        , -0.00269342, -0.        , -0.        , -0.00157559,\n",
       "       -0.        ,  0.        , -0.        , -0.        , -0.        ,\n",
       "       -0.04968219,  0.        , -0.        , -0.        , -0.        ,\n",
       "        0.00722708, -0.03603484, -0.        , -0.04160083,  0.        ,\n",
       "        0.        ,  0.        ,  0.0055423 ,  0.        ,  0.00081463])"
      ]
     },
     "execution_count": 229,
     "metadata": {},
     "output_type": "execute_result"
    }
   ],
   "source": [
    "best_estimator.named_steps[\"lasso_regression\"].coef_"
   ]
  },
  {
   "cell_type": "code",
   "execution_count": 230,
   "metadata": {
    "scrolled": true
   },
   "outputs": [
    {
     "data": {
      "text/plain": [
       "[<matplotlib.lines.Line2D at 0x20b17a91c50>]"
      ]
     },
     "execution_count": 230,
     "metadata": {},
     "output_type": "execute_result"
    },
    {
     "data": {
      "image/png": "[encoded data removed]",
      "text/plain": [
       "<Figure size 432x288 with 1 Axes>"
      ]
     },
     "metadata": {
      "needs_background": "light"
     },
     "output_type": "display_data"
    }
   ],
   "source": [
    "pf = PolynomialFeatures(degree=2)\n",
    "alphas = np.geomspace(2, 20, 20)\n",
    "scores=[]\n",
    "for alpha in alphas:\n",
    "    ridge = Ridge(alpha=alpha, max_iter=100000)\n",
    "\n",
    "    estimator = Pipeline([\n",
    "        (\"scaler\", s),\n",
    "        (\"polynomial_features\", pf),\n",
    "        (\"ridge_regression\", ridge)])\n",
    "\n",
    "    predictions = cross_val_predict(estimator, X, y, cv = kf)\n",
    "    score = r2_score(y, predictions)\n",
    "    scores.append(score)\n",
    "\n",
    "plt.plot(alphas, scores)"
   ]
  },
  {
   "cell_type": "code",
   "execution_count": 231,
   "metadata": {},
   "outputs": [],
   "source": [
    "df_importances = pd.DataFrame(zip(best_estimator.named_steps[\"make_higher_degree\"].get_feature_names(),\n",
    "                 best_estimator.named_steps[\"lasso_regression\"].coef_,\n",
    "))"
   ]
  },
  {
   "cell_type": "code",
   "execution_count": 232,
   "metadata": {},
   "outputs": [],
   "source": [
    "col_names_dict = dict(zip(list(range(len(X.columns.values))), X.columns.values))"
   ]
  },
  {
   "cell_type": "code",
   "execution_count": 233,
   "metadata": {},
   "outputs": [
    {
     "data": {
      "text/plain": [
       "{0: 'fixed acidity',\n",
       " 1: 'volatile acidity',\n",
       " 2: 'residual sugar',\n",
       " 3: 'chlorides',\n",
       " 4: 'total sulfur dioxide',\n",
       " 5: 'density',\n",
       " 6: 'pH',\n",
       " 7: 'sulphates',\n",
       " 8: 'alcohol'}"
      ]
     },
     "execution_count": 233,
     "metadata": {},
     "output_type": "execute_result"
    }
   ],
   "source": [
    "col_names_dict"
   ]
  },
  {
   "cell_type": "code",
   "execution_count": 234,
   "metadata": {
    "scrolled": true
   },
   "outputs": [
    {
     "data": {
      "text/html": [
       "<div>\n",
       "<style scoped>\n",
       "    .dataframe tbody tr th:only-of-type {\n",
       "        vertical-align: middle;\n",
       "    }\n",
       "\n",
       "    .dataframe tbody tr th {\n",
       "        vertical-align: top;\n",
       "    }\n",
       "\n",
       "    .dataframe thead th {\n",
       "        text-align: right;\n",
       "    }\n",
       "</style>\n",
       "<table border=\"1\" class=\"dataframe\">\n",
       "  <thead>\n",
       "    <tr style=\"text-align: right;\">\n",
       "      <th></th>\n",
       "      <th>0</th>\n",
       "      <th>1</th>\n",
       "    </tr>\n",
       "  </thead>\n",
       "  <tbody>\n",
       "    <tr>\n",
       "      <th>2</th>\n",
       "      <td>x1</td>\n",
       "      <td>-0.143046</td>\n",
       "    </tr>\n",
       "    <tr>\n",
       "      <th>40</th>\n",
       "      <td>x4^2</td>\n",
       "      <td>-0.049682</td>\n",
       "    </tr>\n",
       "    <tr>\n",
       "      <th>48</th>\n",
       "      <td>x5 x8</td>\n",
       "      <td>-0.041601</td>\n",
       "    </tr>\n",
       "    <tr>\n",
       "      <th>46</th>\n",
       "      <td>x5 x6</td>\n",
       "      <td>-0.036035</td>\n",
       "    </tr>\n",
       "    <tr>\n",
       "      <th>10</th>\n",
       "      <td>x0^2</td>\n",
       "      <td>-0.023217</td>\n",
       "    </tr>\n",
       "    <tr>\n",
       "      <th>31</th>\n",
       "      <td>x2 x6</td>\n",
       "      <td>-0.002693</td>\n",
       "    </tr>\n",
       "    <tr>\n",
       "      <th>34</th>\n",
       "      <td>x3^2</td>\n",
       "      <td>-0.001576</td>\n",
       "    </tr>\n",
       "    <tr>\n",
       "      <th>29</th>\n",
       "      <td>x2 x4</td>\n",
       "      <td>0.000000</td>\n",
       "    </tr>\n",
       "    <tr>\n",
       "      <th>30</th>\n",
       "      <td>x2 x5</td>\n",
       "      <td>0.000000</td>\n",
       "    </tr>\n",
       "    <tr>\n",
       "      <th>32</th>\n",
       "      <td>x2 x7</td>\n",
       "      <td>-0.000000</td>\n",
       "    </tr>\n",
       "    <tr>\n",
       "      <th>33</th>\n",
       "      <td>x2 x8</td>\n",
       "      <td>-0.000000</td>\n",
       "    </tr>\n",
       "    <tr>\n",
       "      <th>35</th>\n",
       "      <td>x3 x4</td>\n",
       "      <td>-0.000000</td>\n",
       "    </tr>\n",
       "    <tr>\n",
       "      <th>36</th>\n",
       "      <td>x3 x5</td>\n",
       "      <td>0.000000</td>\n",
       "    </tr>\n",
       "    <tr>\n",
       "      <th>37</th>\n",
       "      <td>x3 x6</td>\n",
       "      <td>-0.000000</td>\n",
       "    </tr>\n",
       "    <tr>\n",
       "      <th>38</th>\n",
       "      <td>x3 x7</td>\n",
       "      <td>-0.000000</td>\n",
       "    </tr>\n",
       "    <tr>\n",
       "      <th>0</th>\n",
       "      <td>1</td>\n",
       "      <td>0.000000</td>\n",
       "    </tr>\n",
       "    <tr>\n",
       "      <th>28</th>\n",
       "      <td>x2 x3</td>\n",
       "      <td>-0.000000</td>\n",
       "    </tr>\n",
       "    <tr>\n",
       "      <th>41</th>\n",
       "      <td>x4 x5</td>\n",
       "      <td>0.000000</td>\n",
       "    </tr>\n",
       "    <tr>\n",
       "      <th>42</th>\n",
       "      <td>x4 x6</td>\n",
       "      <td>-0.000000</td>\n",
       "    </tr>\n",
       "    <tr>\n",
       "      <th>43</th>\n",
       "      <td>x4 x7</td>\n",
       "      <td>-0.000000</td>\n",
       "    </tr>\n",
       "    <tr>\n",
       "      <th>44</th>\n",
       "      <td>x4 x8</td>\n",
       "      <td>-0.000000</td>\n",
       "    </tr>\n",
       "    <tr>\n",
       "      <th>47</th>\n",
       "      <td>x5 x7</td>\n",
       "      <td>-0.000000</td>\n",
       "    </tr>\n",
       "    <tr>\n",
       "      <th>49</th>\n",
       "      <td>x6^2</td>\n",
       "      <td>0.000000</td>\n",
       "    </tr>\n",
       "    <tr>\n",
       "      <th>50</th>\n",
       "      <td>x6 x7</td>\n",
       "      <td>0.000000</td>\n",
       "    </tr>\n",
       "    <tr>\n",
       "      <th>51</th>\n",
       "      <td>x6 x8</td>\n",
       "      <td>0.000000</td>\n",
       "    </tr>\n",
       "    <tr>\n",
       "      <th>39</th>\n",
       "      <td>x3 x8</td>\n",
       "      <td>-0.000000</td>\n",
       "    </tr>\n",
       "    <tr>\n",
       "      <th>53</th>\n",
       "      <td>x7 x8</td>\n",
       "      <td>0.000000</td>\n",
       "    </tr>\n",
       "    <tr>\n",
       "      <th>27</th>\n",
       "      <td>x2^2</td>\n",
       "      <td>-0.000000</td>\n",
       "    </tr>\n",
       "    <tr>\n",
       "      <th>25</th>\n",
       "      <td>x1 x7</td>\n",
       "      <td>-0.000000</td>\n",
       "    </tr>\n",
       "    <tr>\n",
       "      <th>1</th>\n",
       "      <td>x0</td>\n",
       "      <td>-0.000000</td>\n",
       "    </tr>\n",
       "    <tr>\n",
       "      <th>3</th>\n",
       "      <td>x2</td>\n",
       "      <td>0.000000</td>\n",
       "    </tr>\n",
       "    <tr>\n",
       "      <th>4</th>\n",
       "      <td>x3</td>\n",
       "      <td>-0.000000</td>\n",
       "    </tr>\n",
       "    <tr>\n",
       "      <th>5</th>\n",
       "      <td>x4</td>\n",
       "      <td>0.000000</td>\n",
       "    </tr>\n",
       "    <tr>\n",
       "      <th>6</th>\n",
       "      <td>x5</td>\n",
       "      <td>-0.000000</td>\n",
       "    </tr>\n",
       "    <tr>\n",
       "      <th>7</th>\n",
       "      <td>x6</td>\n",
       "      <td>0.000000</td>\n",
       "    </tr>\n",
       "    <tr>\n",
       "      <th>8</th>\n",
       "      <td>x7</td>\n",
       "      <td>0.000000</td>\n",
       "    </tr>\n",
       "    <tr>\n",
       "      <th>11</th>\n",
       "      <td>x0 x1</td>\n",
       "      <td>-0.000000</td>\n",
       "    </tr>\n",
       "    <tr>\n",
       "      <th>13</th>\n",
       "      <td>x0 x3</td>\n",
       "      <td>0.000000</td>\n",
       "    </tr>\n",
       "    <tr>\n",
       "      <th>14</th>\n",
       "      <td>x0 x4</td>\n",
       "      <td>0.000000</td>\n",
       "    </tr>\n",
       "    <tr>\n",
       "      <th>12</th>\n",
       "      <td>x0 x2</td>\n",
       "      <td>0.000000</td>\n",
       "    </tr>\n",
       "    <tr>\n",
       "      <th>16</th>\n",
       "      <td>x0 x6</td>\n",
       "      <td>0.000000</td>\n",
       "    </tr>\n",
       "    <tr>\n",
       "      <th>17</th>\n",
       "      <td>x0 x7</td>\n",
       "      <td>-0.000000</td>\n",
       "    </tr>\n",
       "    <tr>\n",
       "      <th>18</th>\n",
       "      <td>x0 x8</td>\n",
       "      <td>-0.000000</td>\n",
       "    </tr>\n",
       "    <tr>\n",
       "      <th>19</th>\n",
       "      <td>x1^2</td>\n",
       "      <td>-0.000000</td>\n",
       "    </tr>\n",
       "    <tr>\n",
       "      <th>20</th>\n",
       "      <td>x1 x2</td>\n",
       "      <td>0.000000</td>\n",
       "    </tr>\n",
       "    <tr>\n",
       "      <th>21</th>\n",
       "      <td>x1 x3</td>\n",
       "      <td>-0.000000</td>\n",
       "    </tr>\n",
       "    <tr>\n",
       "      <th>22</th>\n",
       "      <td>x1 x4</td>\n",
       "      <td>0.000000</td>\n",
       "    </tr>\n",
       "    <tr>\n",
       "      <th>23</th>\n",
       "      <td>x1 x5</td>\n",
       "      <td>-0.000000</td>\n",
       "    </tr>\n",
       "    <tr>\n",
       "      <th>24</th>\n",
       "      <td>x1 x6</td>\n",
       "      <td>0.000000</td>\n",
       "    </tr>\n",
       "    <tr>\n",
       "      <th>15</th>\n",
       "      <td>x0 x5</td>\n",
       "      <td>0.000000</td>\n",
       "    </tr>\n",
       "    <tr>\n",
       "      <th>54</th>\n",
       "      <td>x8^2</td>\n",
       "      <td>0.000815</td>\n",
       "    </tr>\n",
       "    <tr>\n",
       "      <th>52</th>\n",
       "      <td>x7^2</td>\n",
       "      <td>0.005542</td>\n",
       "    </tr>\n",
       "    <tr>\n",
       "      <th>45</th>\n",
       "      <td>x5^2</td>\n",
       "      <td>0.007227</td>\n",
       "    </tr>\n",
       "    <tr>\n",
       "      <th>26</th>\n",
       "      <td>x1 x8</td>\n",
       "      <td>0.042809</td>\n",
       "    </tr>\n",
       "    <tr>\n",
       "      <th>9</th>\n",
       "      <td>x8</td>\n",
       "      <td>0.319738</td>\n",
       "    </tr>\n",
       "  </tbody>\n",
       "</table>\n",
       "</div>"
      ],
      "text/plain": [
       "        0         1\n",
       "2      x1 -0.143046\n",
       "40   x4^2 -0.049682\n",
       "48  x5 x8 -0.041601\n",
       "46  x5 x6 -0.036035\n",
       "10   x0^2 -0.023217\n",
       "31  x2 x6 -0.002693\n",
       "34   x3^2 -0.001576\n",
       "29  x2 x4  0.000000\n",
       "30  x2 x5  0.000000\n",
       "32  x2 x7 -0.000000\n",
       "33  x2 x8 -0.000000\n",
       "35  x3 x4 -0.000000\n",
       "36  x3 x5  0.000000\n",
       "37  x3 x6 -0.000000\n",
       "38  x3 x7 -0.000000\n",
       "0       1  0.000000\n",
       "28  x2 x3 -0.000000\n",
       "41  x4 x5  0.000000\n",
       "42  x4 x6 -0.000000\n",
       "43  x4 x7 -0.000000\n",
       "44  x4 x8 -0.000000\n",
       "47  x5 x7 -0.000000\n",
       "49   x6^2  0.000000\n",
       "50  x6 x7  0.000000\n",
       "51  x6 x8  0.000000\n",
       "39  x3 x8 -0.000000\n",
       "53  x7 x8  0.000000\n",
       "27   x2^2 -0.000000\n",
       "25  x1 x7 -0.000000\n",
       "1      x0 -0.000000\n",
       "3      x2  0.000000\n",
       "4      x3 -0.000000\n",
       "5      x4  0.000000\n",
       "6      x5 -0.000000\n",
       "7      x6  0.000000\n",
       "8      x7  0.000000\n",
       "11  x0 x1 -0.000000\n",
       "13  x0 x3  0.000000\n",
       "14  x0 x4  0.000000\n",
       "12  x0 x2  0.000000\n",
       "16  x0 x6  0.000000\n",
       "17  x0 x7 -0.000000\n",
       "18  x0 x8 -0.000000\n",
       "19   x1^2 -0.000000\n",
       "20  x1 x2  0.000000\n",
       "21  x1 x3 -0.000000\n",
       "22  x1 x4  0.000000\n",
       "23  x1 x5 -0.000000\n",
       "24  x1 x6  0.000000\n",
       "15  x0 x5  0.000000\n",
       "54   x8^2  0.000815\n",
       "52   x7^2  0.005542\n",
       "45   x5^2  0.007227\n",
       "26  x1 x8  0.042809\n",
       "9      x8  0.319738"
      ]
     },
     "execution_count": 234,
     "metadata": {},
     "output_type": "execute_result"
    }
   ],
   "source": [
    "df_importances.sort_values(by=1)"
   ]
  },
  {
   "cell_type": "code",
   "execution_count": 235,
   "metadata": {},
   "outputs": [],
   "source": [
    "from sklearn.model_selection import GridSearchCV\n",
    "\n",
    "# Same estimator as before\n",
    "estimator = Pipeline([(\"scaler\", StandardScaler()),\n",
    "        (\"polynomial_features\", PolynomialFeatures()),\n",
    "        (\"ridge_regression\", Ridge())])\n",
    "\n",
    "params = {\n",
    "    'polynomial_features__degree': [1, 2, 3],\n",
    "    'ridge_regression__alpha': np.geomspace(4, 20, 30)\n",
    "}\n",
    "\n",
    "grid = GridSearchCV(estimator, params, cv=kf)"
   ]
  },
  {
   "cell_type": "code",
   "execution_count": 236,
   "metadata": {
    "scrolled": true
   },
   "outputs": [
    {
     "name": "stderr",
     "output_type": "stream",
     "text": [
      "C:\\Users\\bryan\\Anaconda3\\lib\\site-packages\\sklearn\\model_selection\\_search.py:813: DeprecationWarning: The default of the `iid` parameter will change from True to False in version 0.22 and will be removed in 0.24. This will change numeric results when test-set sizes are unequal.\n",
      "  DeprecationWarning)\n"
     ]
    },
    {
     "data": {
      "text/plain": [
       "GridSearchCV(cv=KFold(n_splits=5, random_state=72018, shuffle=True),\n",
       "             error_score='raise-deprecating',\n",
       "             estimator=Pipeline(memory=None,\n",
       "                                steps=[('scaler',\n",
       "                                        StandardScaler(copy=True,\n",
       "                                                       with_mean=True,\n",
       "                                                       with_std=True)),\n",
       "                                       ('polynomial_features',\n",
       "                                        PolynomialFeatures(degree=2,\n",
       "                                                           include_bias=True,\n",
       "                                                           interaction_only=False,\n",
       "                                                           order='C')),\n",
       "                                       ('ridge_regression',\n",
       "                                        Ridge(alpha=1.0, copy_X=T...\n",
       "        5.27924796,  5.58051751,  5.89897953,  6.23561514,  6.59146146,\n",
       "        6.96761476,  7.36523392,  7.78554391,  8.22983963,  8.69948987,\n",
       "        9.19594151,  9.72072404, 10.27545421, 10.86184103, 11.48169104,\n",
       "       12.13691388, 12.82952815, 13.56166768, 14.33558803, 15.15367351,\n",
       "       16.01844446, 16.93256509, 17.89885162, 18.92028098, 20.        ])},\n",
       "             pre_dispatch='2*n_jobs', refit=True, return_train_score=False,\n",
       "             scoring=None, verbose=0)"
      ]
     },
     "execution_count": 236,
     "metadata": {},
     "output_type": "execute_result"
    }
   ],
   "source": [
    "grid.fit(X, y)"
   ]
  },
  {
   "cell_type": "code",
   "execution_count": 237,
   "metadata": {},
   "outputs": [
    {
     "data": {
      "text/plain": [
       "(0.31374693325210967,\n",
       " {'polynomial_features__degree': 2,\n",
       "  'ridge_regression__alpha': 20.000000000000004})"
      ]
     },
     "execution_count": 237,
     "metadata": {},
     "output_type": "execute_result"
    }
   ],
   "source": [
    "grid.best_score_, grid.best_params_"
   ]
  },
  {
   "cell_type": "code",
   "execution_count": 238,
   "metadata": {},
   "outputs": [],
   "source": [
    "y_predict = grid.predict(X)"
   ]
  },
  {
   "cell_type": "code",
   "execution_count": 239,
   "metadata": {
    "scrolled": true
   },
   "outputs": [
    {
     "data": {
      "text/plain": [
       "0.34849406270305383"
      ]
     },
     "execution_count": 239,
     "metadata": {},
     "output_type": "execute_result"
    }
   ],
   "source": [
    "r2_score(y, y_predict)"
   ]
  },
  {
   "cell_type": "code",
   "execution_count": 240,
   "metadata": {
    "scrolled": true
   },
   "outputs": [
    {
     "data": {
      "text/plain": [
       "array([ 0.00000000e+00,  1.22056344e-01, -2.12016163e-01,  4.57327263e-01,\n",
       "       -9.49752234e-02,  5.65120330e-02, -5.43527067e-01,  1.22464537e-01,\n",
       "        6.70337686e-02,  1.18110165e-01, -1.98793247e-02, -1.61388592e-03,\n",
       "       -2.17634611e-02, -9.21194338e-03, -6.51749784e-03, -4.14524988e-02,\n",
       "        6.83179537e-02,  2.81366377e-02, -2.24962097e-02,  1.44822943e-02,\n",
       "        1.89465078e-04, -7.76331938e-03,  3.04645537e-02, -2.18436963e-02,\n",
       "        2.81027507e-02, -1.47220873e-02,  5.49148546e-02, -1.81186763e-01,\n",
       "       -7.85805019e-02, -8.10747279e-02,  1.40804313e-01,  2.16948494e-02,\n",
       "        3.43374650e-02,  7.33974327e-02,  5.35990523e-03, -6.60779739e-03,\n",
       "        5.13312410e-02, -3.93694380e-02, -3.58209160e-02, -2.81727920e-02,\n",
       "       -7.79410111e-02,  1.81110187e-01, -1.46249064e-02, -1.45292873e-02,\n",
       "        1.01503834e-01,  5.09095173e-02, -1.91624200e-01, -1.35102111e-01,\n",
       "       -3.27810131e-02,  3.44365194e-02,  5.83425664e-02, -6.58034176e-02,\n",
       "        4.04375950e-03, -9.67275553e-02,  5.67193330e-03])"
      ]
     },
     "execution_count": 240,
     "metadata": {},
     "output_type": "execute_result"
    }
   ],
   "source": [
    "# Notice that \"grid\" is a fit object!\n",
    "# We can use grid.predict(X_test) to get brand new predictions!\n",
    "grid.best_estimator_.named_steps['ridge_regression'].coef_"
   ]
  },
  {
   "cell_type": "code",
   "execution_count": 241,
   "metadata": {
    "scrolled": true
   },
   "outputs": [
    {
     "data": {
      "text/plain": [
       "{'mean_fit_time': array([0.00379443, 0.00357995, 0.00399003, 0.0037694 , 0.00338001,\n",
       "        0.00357699, 0.00378275, 0.0038733 , 0.00378518, 0.00358367,\n",
       "        0.00338006, 0.00378909, 0.00396862, 0.00357809, 0.00378771,\n",
       "        0.0031909 , 0.00396528, 0.00376086, 0.00356979, 0.00338497,\n",
       "        0.0038053 , 0.00398278, 0.00338416, 0.00358257, 0.00396304,\n",
       "        0.00338459, 0.00378556, 0.00397978, 0.00378494, 0.00400143,\n",
       "        0.00738182, 0.00777254, 0.00736413, 0.00757465, 0.00756445,\n",
       "        0.0081665 , 0.00736146, 0.00795951, 0.00757437, 0.00777478,\n",
       "        0.00758038, 0.00756907, 0.00776081, 0.00776157, 0.00755987,\n",
       "        0.00794916, 0.00835762, 0.00756464, 0.00796046, 0.0079792 ,\n",
       "        0.00916004, 0.00857368, 0.00878391, 0.00817766, 0.0089757 ,\n",
       "        0.00816994, 0.00797853, 0.00817313, 0.00815701, 0.0079597 ,\n",
       "        0.02332554, 0.0226984 , 0.02313957, 0.02253337, 0.02313347,\n",
       "        0.02412915, 0.02393212, 0.02394314, 0.02513452, 0.02473569,\n",
       "        0.02432609, 0.02333226, 0.02292104, 0.02593226, 0.02672811,\n",
       "        0.02471905, 0.02492986, 0.02433157, 0.02553158, 0.02692647,\n",
       "        0.02593026, 0.02491946, 0.02353439, 0.02291899, 0.02333608,\n",
       "        0.02393403, 0.02613683, 0.02651501, 0.02591591, 0.02572341]),\n",
       " 'std_fit_time': array([4.01264574e-04, 4.80226454e-04, 6.31053682e-04, 3.88629714e-04,\n",
       "        4.89104716e-04, 4.92643843e-04, 3.96019647e-04, 2.43959481e-04,\n",
       "        3.96589979e-04, 4.83495925e-04, 4.70544227e-04, 3.98594156e-04,\n",
       "        1.70635762e-05, 4.76345586e-04, 3.97552136e-04, 3.99056799e-04,\n",
       "        1.24668982e-05, 4.05553308e-04, 4.85755148e-04, 4.80747015e-04,\n",
       "        4.06315838e-04, 3.21269367e-05, 4.81191741e-04, 4.82740378e-04,\n",
       "        1.30990561e-05, 4.80639722e-04, 4.09106230e-04, 1.26775927e-05,\n",
       "        3.96553830e-04, 1.36582011e-05, 5.11380666e-04, 4.10011380e-04,\n",
       "        4.92698708e-04, 4.84510212e-04, 4.90513431e-04, 4.04719155e-04,\n",
       "        5.04922266e-04, 1.61200583e-05, 4.84754667e-04, 3.96555493e-04,\n",
       "        4.88402856e-04, 5.01960930e-04, 3.80544626e-04, 3.89929329e-04,\n",
       "        4.87043504e-04, 1.18907547e-05, 8.07148366e-04, 5.03141402e-04,\n",
       "        6.30587271e-04, 6.30680613e-04, 3.90952153e-04, 4.92851967e-04,\n",
       "        7.48555893e-04, 3.98565005e-04, 3.81469727e-07, 4.02647813e-04,\n",
       "        6.30374297e-04, 4.01539630e-04, 4.09128977e-04, 1.61904297e-05,\n",
       "        4.84730023e-04, 4.42133354e-04, 3.82788542e-04, 4.98412620e-04,\n",
       "        7.48700476e-04, 4.02456239e-04, 1.54818679e-05, 9.06954120e-04,\n",
       "        9.77585504e-04, 4.16082951e-04, 1.17814569e-03, 7.97451472e-04,\n",
       "        6.30679982e-04, 1.89509677e-03, 1.32305303e-03, 1.16509558e-03,\n",
       "        8.84919398e-04, 4.91281069e-04, 1.35213541e-03, 1.25273871e-03,\n",
       "        6.31053537e-04, 1.66501159e-03, 5.00511337e-04, 6.41575287e-04,\n",
       "        4.76350168e-04, 9.08471821e-04, 9.76799649e-04, 2.23541880e-03,\n",
       "        9.01832644e-04, 1.94413819e-03]),\n",
       " 'mean_score_time': array([0.00198994, 0.00159583, 0.00159531, 0.00140395, 0.00159321,\n",
       "        0.00139585, 0.0013967 , 0.00198312, 0.00119615, 0.00139122,\n",
       "        0.00158057, 0.00158958, 0.00121684, 0.00138927, 0.0017971 ,\n",
       "        0.0019702 , 0.00100369, 0.00141034, 0.00139647, 0.00178189,\n",
       "        0.0019793 , 0.00139627, 0.00138974, 0.00179224, 0.0016161 ,\n",
       "        0.00138993, 0.00159998, 0.00160131, 0.00179462, 0.00198259,\n",
       "        0.00258164, 0.00198712, 0.00199704, 0.00198798, 0.00201235,\n",
       "        0.00199456, 0.00220213, 0.00201092, 0.00240164, 0.00220461,\n",
       "        0.00219345, 0.00219855, 0.00221262, 0.00200672, 0.00221601,\n",
       "        0.00221944, 0.00240049, 0.00238895, 0.00239749, 0.00219336,\n",
       "        0.00220466, 0.00239735, 0.00238647, 0.00259328, 0.00219617,\n",
       "        0.00219474, 0.00259314, 0.00239372, 0.0019949 , 0.0020102 ,\n",
       "        0.00479789, 0.00519361, 0.00478568, 0.00498872, 0.00517883,\n",
       "        0.00518126, 0.00499034, 0.00517926, 0.00518427, 0.00558305,\n",
       "        0.00518103, 0.00518756, 0.00518403, 0.00538502, 0.00519309,\n",
       "        0.00559325, 0.00578794, 0.00518613, 0.00578489, 0.00538273,\n",
       "        0.00519295, 0.00519271, 0.0049696 , 0.00499353, 0.00498118,\n",
       "        0.00518208, 0.00537844, 0.0055913 , 0.00519257, 0.00498724]),\n",
       " 'std_score_time': array([9.87248701e-06, 4.88013482e-04, 4.87878622e-04, 4.85033324e-04,\n",
       "        4.77405986e-04, 4.75708594e-04, 4.88967441e-04, 2.16588025e-05,\n",
       "        3.98397859e-04, 4.66098295e-04, 4.76313556e-04, 4.94957898e-04,\n",
       "        4.06198076e-04, 4.65910094e-04, 4.00163738e-04, 1.27820823e-05,\n",
       "        1.25430834e-05, 4.91267313e-04, 4.74921297e-04, 3.92671228e-04,\n",
       "        1.74051441e-05, 4.75077855e-04, 4.67059307e-04, 3.98060461e-04,\n",
       "        4.91572155e-04, 4.80872919e-04, 4.92029763e-04, 4.91784995e-04,\n",
       "        3.99406426e-04, 1.44683741e-05, 4.91475909e-04, 1.33451379e-05,\n",
       "        2.18365389e-05, 1.31449744e-05, 2.70407453e-05, 5.51978917e-07,\n",
       "        4.12894438e-04, 1.33315006e-05, 4.92368976e-04, 4.05853005e-04,\n",
       "        3.98993845e-04, 3.96199676e-04, 3.80864247e-04, 1.51228813e-05,\n",
       "        4.09090812e-04, 4.02769842e-04, 4.96441108e-04, 4.92092782e-04,\n",
       "        4.99598686e-04, 3.96537981e-04, 4.07588621e-04, 4.85627672e-04,\n",
       "        4.80177874e-04, 4.88519494e-04, 3.98000143e-04, 3.98827141e-04,\n",
       "        4.88403019e-04, 4.88422209e-04, 1.00475824e-06, 1.89338580e-05,\n",
       "        3.91949076e-04, 3.94875948e-04, 3.99190646e-04, 2.31157356e-05,\n",
       "        3.77246685e-04, 3.88646137e-04, 2.80062177e-05, 4.02746770e-04,\n",
       "        3.97755727e-04, 8.00437665e-04, 4.01765412e-04, 4.14948134e-04,\n",
       "        3.86561759e-04, 4.92567674e-04, 3.95444152e-04, 4.95306559e-04,\n",
       "        1.15904441e-03, 3.99089554e-04, 3.98707714e-04, 4.91314909e-04,\n",
       "        3.95786888e-04, 3.95530700e-04, 1.38151172e-05, 1.36633609e-05,\n",
       "        1.50869046e-05, 4.01984341e-04, 4.95164232e-04, 5.05333217e-04,\n",
       "        4.08814396e-04, 6.31135419e-04]),\n",
       " 'param_polynomial_features__degree': masked_array(data=[1, 1, 1, 1, 1, 1, 1, 1, 1, 1, 1, 1, 1, 1, 1, 1, 1, 1,\n",
       "                    1, 1, 1, 1, 1, 1, 1, 1, 1, 1, 1, 1, 2, 2, 2, 2, 2, 2,\n",
       "                    2, 2, 2, 2, 2, 2, 2, 2, 2, 2, 2, 2, 2, 2, 2, 2, 2, 2,\n",
       "                    2, 2, 2, 2, 2, 2, 3, 3, 3, 3, 3, 3, 3, 3, 3, 3, 3, 3,\n",
       "                    3, 3, 3, 3, 3, 3, 3, 3, 3, 3, 3, 3, 3, 3, 3, 3, 3, 3],\n",
       "              mask=[False, False, False, False, False, False, False, False,\n",
       "                    False, False, False, False, False, False, False, False,\n",
       "                    False, False, False, False, False, False, False, False,\n",
       "                    False, False, False, False, False, False, False, False,\n",
       "                    False, False, False, False, False, False, False, False,\n",
       "                    False, False, False, False, False, False, False, False,\n",
       "                    False, False, False, False, False, False, False, False,\n",
       "                    False, False, False, False, False, False, False, False,\n",
       "                    False, False, False, False, False, False, False, False,\n",
       "                    False, False, False, False, False, False, False, False,\n",
       "                    False, False, False, False, False, False, False, False,\n",
       "                    False, False],\n",
       "        fill_value='?',\n",
       "             dtype=object),\n",
       " 'param_ridge_regression__alpha': masked_array(data=[4.0, 4.228267015769416, 4.4695604891609,\n",
       "                    4.724623797826311, 4.994242741567055,\n",
       "                    5.279247963228449, 5.58051750774668, 5.898979527232258,\n",
       "                    6.235615140423803, 6.591461455321584,\n",
       "                    6.9676147643129305, 7.365233921633089,\n",
       "                    7.785543913566802, 8.229839632389709,\n",
       "                    8.699489865676323, 9.195941513264877,\n",
       "                    9.720724044870641, 10.275454212080797,\n",
       "                    10.861841029247536, 11.481691038624568,\n",
       "                    12.136913875967887, 12.82952815374728,\n",
       "                    13.561667680093686, 14.335588032641558,\n",
       "                    15.153673507519274, 16.018444464895637,\n",
       "                    16.932565093713098, 17.898851619528912,\n",
       "                    18.920280980751272, 20.000000000000004, 4.0,\n",
       "                    4.228267015769416, 4.4695604891609, 4.724623797826311,\n",
       "                    4.994242741567055, 5.279247963228449, 5.58051750774668,\n",
       "                    5.898979527232258, 6.235615140423803,\n",
       "                    6.591461455321584, 6.9676147643129305,\n",
       "                    7.365233921633089, 7.785543913566802,\n",
       "                    8.229839632389709, 8.699489865676323,\n",
       "                    9.195941513264877, 9.720724044870641,\n",
       "                    10.275454212080797, 10.861841029247536,\n",
       "                    11.481691038624568, 12.136913875967887,\n",
       "                    12.82952815374728, 13.561667680093686,\n",
       "                    14.335588032641558, 15.153673507519274,\n",
       "                    16.018444464895637, 16.932565093713098,\n",
       "                    17.898851619528912, 18.920280980751272,\n",
       "                    20.000000000000004, 4.0, 4.228267015769416,\n",
       "                    4.4695604891609, 4.724623797826311, 4.994242741567055,\n",
       "                    5.279247963228449, 5.58051750774668, 5.898979527232258,\n",
       "                    6.235615140423803, 6.591461455321584,\n",
       "                    6.9676147643129305, 7.365233921633089,\n",
       "                    7.785543913566802, 8.229839632389709,\n",
       "                    8.699489865676323, 9.195941513264877,\n",
       "                    9.720724044870641, 10.275454212080797,\n",
       "                    10.861841029247536, 11.481691038624568,\n",
       "                    12.136913875967887, 12.82952815374728,\n",
       "                    13.561667680093686, 14.335588032641558,\n",
       "                    15.153673507519274, 16.018444464895637,\n",
       "                    16.932565093713098, 17.898851619528912,\n",
       "                    18.920280980751272, 20.000000000000004],\n",
       "              mask=[False, False, False, False, False, False, False, False,\n",
       "                    False, False, False, False, False, False, False, False,\n",
       "                    False, False, False, False, False, False, False, False,\n",
       "                    False, False, False, False, False, False, False, False,\n",
       "                    False, False, False, False, False, False, False, False,\n",
       "                    False, False, False, False, False, False, False, False,\n",
       "                    False, False, False, False, False, False, False, False,\n",
       "                    False, False, False, False, False, False, False, False,\n",
       "                    False, False, False, False, False, False, False, False,\n",
       "                    False, False, False, False, False, False, False, False,\n",
       "                    False, False, False, False, False, False, False, False,\n",
       "                    False, False],\n",
       "        fill_value='?',\n",
       "             dtype=object),\n",
       " 'params': [{'polynomial_features__degree': 1, 'ridge_regression__alpha': 4.0},\n",
       "  {'polynomial_features__degree': 1,\n",
       "   'ridge_regression__alpha': 4.228267015769416},\n",
       "  {'polynomial_features__degree': 1,\n",
       "   'ridge_regression__alpha': 4.4695604891609},\n",
       "  {'polynomial_features__degree': 1,\n",
       "   'ridge_regression__alpha': 4.724623797826311},\n",
       "  {'polynomial_features__degree': 1,\n",
       "   'ridge_regression__alpha': 4.994242741567055},\n",
       "  {'polynomial_features__degree': 1,\n",
       "   'ridge_regression__alpha': 5.279247963228449},\n",
       "  {'polynomial_features__degree': 1,\n",
       "   'ridge_regression__alpha': 5.58051750774668},\n",
       "  {'polynomial_features__degree': 1,\n",
       "   'ridge_regression__alpha': 5.898979527232258},\n",
       "  {'polynomial_features__degree': 1,\n",
       "   'ridge_regression__alpha': 6.235615140423803},\n",
       "  {'polynomial_features__degree': 1,\n",
       "   'ridge_regression__alpha': 6.591461455321584},\n",
       "  {'polynomial_features__degree': 1,\n",
       "   'ridge_regression__alpha': 6.9676147643129305},\n",
       "  {'polynomial_features__degree': 1,\n",
       "   'ridge_regression__alpha': 7.365233921633089},\n",
       "  {'polynomial_features__degree': 1,\n",
       "   'ridge_regression__alpha': 7.785543913566802},\n",
       "  {'polynomial_features__degree': 1,\n",
       "   'ridge_regression__alpha': 8.229839632389709},\n",
       "  {'polynomial_features__degree': 1,\n",
       "   'ridge_regression__alpha': 8.699489865676323},\n",
       "  {'polynomial_features__degree': 1,\n",
       "   'ridge_regression__alpha': 9.195941513264877},\n",
       "  {'polynomial_features__degree': 1,\n",
       "   'ridge_regression__alpha': 9.720724044870641},\n",
       "  {'polynomial_features__degree': 1,\n",
       "   'ridge_regression__alpha': 10.275454212080797},\n",
       "  {'polynomial_features__degree': 1,\n",
       "   'ridge_regression__alpha': 10.861841029247536},\n",
       "  {'polynomial_features__degree': 1,\n",
       "   'ridge_regression__alpha': 11.481691038624568},\n",
       "  {'polynomial_features__degree': 1,\n",
       "   'ridge_regression__alpha': 12.136913875967887},\n",
       "  {'polynomial_features__degree': 1,\n",
       "   'ridge_regression__alpha': 12.82952815374728},\n",
       "  {'polynomial_features__degree': 1,\n",
       "   'ridge_regression__alpha': 13.561667680093686},\n",
       "  {'polynomial_features__degree': 1,\n",
       "   'ridge_regression__alpha': 14.335588032641558},\n",
       "  {'polynomial_features__degree': 1,\n",
       "   'ridge_regression__alpha': 15.153673507519274},\n",
       "  {'polynomial_features__degree': 1,\n",
       "   'ridge_regression__alpha': 16.018444464895637},\n",
       "  {'polynomial_features__degree': 1,\n",
       "   'ridge_regression__alpha': 16.932565093713098},\n",
       "  {'polynomial_features__degree': 1,\n",
       "   'ridge_regression__alpha': 17.898851619528912},\n",
       "  {'polynomial_features__degree': 1,\n",
       "   'ridge_regression__alpha': 18.920280980751272},\n",
       "  {'polynomial_features__degree': 1,\n",
       "   'ridge_regression__alpha': 20.000000000000004},\n",
       "  {'polynomial_features__degree': 2, 'ridge_regression__alpha': 4.0},\n",
       "  {'polynomial_features__degree': 2,\n",
       "   'ridge_regression__alpha': 4.228267015769416},\n",
       "  {'polynomial_features__degree': 2,\n",
       "   'ridge_regression__alpha': 4.4695604891609},\n",
       "  {'polynomial_features__degree': 2,\n",
       "   'ridge_regression__alpha': 4.724623797826311},\n",
       "  {'polynomial_features__degree': 2,\n",
       "   'ridge_regression__alpha': 4.994242741567055},\n",
       "  {'polynomial_features__degree': 2,\n",
       "   'ridge_regression__alpha': 5.279247963228449},\n",
       "  {'polynomial_features__degree': 2,\n",
       "   'ridge_regression__alpha': 5.58051750774668},\n",
       "  {'polynomial_features__degree': 2,\n",
       "   'ridge_regression__alpha': 5.898979527232258},\n",
       "  {'polynomial_features__degree': 2,\n",
       "   'ridge_regression__alpha': 6.235615140423803},\n",
       "  {'polynomial_features__degree': 2,\n",
       "   'ridge_regression__alpha': 6.591461455321584},\n",
       "  {'polynomial_features__degree': 2,\n",
       "   'ridge_regression__alpha': 6.9676147643129305},\n",
       "  {'polynomial_features__degree': 2,\n",
       "   'ridge_regression__alpha': 7.365233921633089},\n",
       "  {'polynomial_features__degree': 2,\n",
       "   'ridge_regression__alpha': 7.785543913566802},\n",
       "  {'polynomial_features__degree': 2,\n",
       "   'ridge_regression__alpha': 8.229839632389709},\n",
       "  {'polynomial_features__degree': 2,\n",
       "   'ridge_regression__alpha': 8.699489865676323},\n",
       "  {'polynomial_features__degree': 2,\n",
       "   'ridge_regression__alpha': 9.195941513264877},\n",
       "  {'polynomial_features__degree': 2,\n",
       "   'ridge_regression__alpha': 9.720724044870641},\n",
       "  {'polynomial_features__degree': 2,\n",
       "   'ridge_regression__alpha': 10.275454212080797},\n",
       "  {'polynomial_features__degree': 2,\n",
       "   'ridge_regression__alpha': 10.861841029247536},\n",
       "  {'polynomial_features__degree': 2,\n",
       "   'ridge_regression__alpha': 11.481691038624568},\n",
       "  {'polynomial_features__degree': 2,\n",
       "   'ridge_regression__alpha': 12.136913875967887},\n",
       "  {'polynomial_features__degree': 2,\n",
       "   'ridge_regression__alpha': 12.82952815374728},\n",
       "  {'polynomial_features__degree': 2,\n",
       "   'ridge_regression__alpha': 13.561667680093686},\n",
       "  {'polynomial_features__degree': 2,\n",
       "   'ridge_regression__alpha': 14.335588032641558},\n",
       "  {'polynomial_features__degree': 2,\n",
       "   'ridge_regression__alpha': 15.153673507519274},\n",
       "  {'polynomial_features__degree': 2,\n",
       "   'ridge_regression__alpha': 16.018444464895637},\n",
       "  {'polynomial_features__degree': 2,\n",
       "   'ridge_regression__alpha': 16.932565093713098},\n",
       "  {'polynomial_features__degree': 2,\n",
       "   'ridge_regression__alpha': 17.898851619528912},\n",
       "  {'polynomial_features__degree': 2,\n",
       "   'ridge_regression__alpha': 18.920280980751272},\n",
       "  {'polynomial_features__degree': 2,\n",
       "   'ridge_regression__alpha': 20.000000000000004},\n",
       "  {'polynomial_features__degree': 3, 'ridge_regression__alpha': 4.0},\n",
       "  {'polynomial_features__degree': 3,\n",
       "   'ridge_regression__alpha': 4.228267015769416},\n",
       "  {'polynomial_features__degree': 3,\n",
       "   'ridge_regression__alpha': 4.4695604891609},\n",
       "  {'polynomial_features__degree': 3,\n",
       "   'ridge_regression__alpha': 4.724623797826311},\n",
       "  {'polynomial_features__degree': 3,\n",
       "   'ridge_regression__alpha': 4.994242741567055},\n",
       "  {'polynomial_features__degree': 3,\n",
       "   'ridge_regression__alpha': 5.279247963228449},\n",
       "  {'polynomial_features__degree': 3,\n",
       "   'ridge_regression__alpha': 5.58051750774668},\n",
       "  {'polynomial_features__degree': 3,\n",
       "   'ridge_regression__alpha': 5.898979527232258},\n",
       "  {'polynomial_features__degree': 3,\n",
       "   'ridge_regression__alpha': 6.235615140423803},\n",
       "  {'polynomial_features__degree': 3,\n",
       "   'ridge_regression__alpha': 6.591461455321584},\n",
       "  {'polynomial_features__degree': 3,\n",
       "   'ridge_regression__alpha': 6.9676147643129305},\n",
       "  {'polynomial_features__degree': 3,\n",
       "   'ridge_regression__alpha': 7.365233921633089},\n",
       "  {'polynomial_features__degree': 3,\n",
       "   'ridge_regression__alpha': 7.785543913566802},\n",
       "  {'polynomial_features__degree': 3,\n",
       "   'ridge_regression__alpha': 8.229839632389709},\n",
       "  {'polynomial_features__degree': 3,\n",
       "   'ridge_regression__alpha': 8.699489865676323},\n",
       "  {'polynomial_features__degree': 3,\n",
       "   'ridge_regression__alpha': 9.195941513264877},\n",
       "  {'polynomial_features__degree': 3,\n",
       "   'ridge_regression__alpha': 9.720724044870641},\n",
       "  {'polynomial_features__degree': 3,\n",
       "   'ridge_regression__alpha': 10.275454212080797},\n",
       "  {'polynomial_features__degree': 3,\n",
       "   'ridge_regression__alpha': 10.861841029247536},\n",
       "  {'polynomial_features__degree': 3,\n",
       "   'ridge_regression__alpha': 11.481691038624568},\n",
       "  {'polynomial_features__degree': 3,\n",
       "   'ridge_regression__alpha': 12.136913875967887},\n",
       "  {'polynomial_features__degree': 3,\n",
       "   'ridge_regression__alpha': 12.82952815374728},\n",
       "  {'polynomial_features__degree': 3,\n",
       "   'ridge_regression__alpha': 13.561667680093686},\n",
       "  {'polynomial_features__degree': 3,\n",
       "   'ridge_regression__alpha': 14.335588032641558},\n",
       "  {'polynomial_features__degree': 3,\n",
       "   'ridge_regression__alpha': 15.153673507519274},\n",
       "  {'polynomial_features__degree': 3,\n",
       "   'ridge_regression__alpha': 16.018444464895637},\n",
       "  {'polynomial_features__degree': 3,\n",
       "   'ridge_regression__alpha': 16.932565093713098},\n",
       "  {'polynomial_features__degree': 3,\n",
       "   'ridge_regression__alpha': 17.898851619528912},\n",
       "  {'polynomial_features__degree': 3,\n",
       "   'ridge_regression__alpha': 18.920280980751272},\n",
       "  {'polynomial_features__degree': 3,\n",
       "   'ridge_regression__alpha': 20.000000000000004}],\n",
       " 'split0_test_score': array([ 0.230571  ,  0.23078758,  0.23101391,  0.23125028,  0.23149698,\n",
       "         0.23175427,  0.23202243,  0.2323017 ,  0.23259232,  0.23289451,\n",
       "         0.23320845,  0.23353431,  0.23387223,  0.2342223 ,  0.2345846 ,\n",
       "         0.23495915,  0.23534592,  0.23574486,  0.23615585,  0.2365787 ,\n",
       "         0.2370132 ,  0.23745904,  0.23791587,  0.23838326,  0.23886072,\n",
       "         0.23934768,  0.2398435 ,  0.24034749,  0.24085884,  0.24137672,\n",
       "         0.18995713,  0.19131027,  0.19271893,  0.19418367,  0.19570488,\n",
       "         0.19728276,  0.1989173 ,  0.20060827,  0.20235521,  0.20415741,\n",
       "         0.20601391,  0.20792347,  0.20988458,  0.21189545,  0.213954  ,\n",
       "         0.21605787,  0.21820439,  0.22039065,  0.22261344,  0.2248693 ,\n",
       "         0.22715453,  0.2294652 ,  0.23179719,  0.23414619,  0.23650776,\n",
       "         0.23887734,  0.2412503 ,  0.24362197,  0.24598768,  0.2483428 ,\n",
       "        -4.96992469, -4.79738339, -4.64297543, -4.50564377, -4.38439867,\n",
       "        -4.27831518, -4.18653012, -4.10823866, -4.04269062, -3.98918645,\n",
       "        -3.94707305, -3.91573948, -3.89461262, -3.88315282, -3.88084969,\n",
       "        -3.88721792, -3.90179342, -3.9241296 , -3.95379394, -3.99036492,\n",
       "        -4.03342931, -4.08257979, -4.13741305, -4.19752825, -4.26252594,\n",
       "        -4.3320074 , -4.40557436, -4.48282921, -4.56337544, -4.64681851]),\n",
       " 'split1_test_score': array([0.31546193, 0.31542593, 0.31538799, 0.31534801, 0.3153059 ,\n",
       "        0.31526155, 0.31521485, 0.31516567, 0.31511391, 0.31505944,\n",
       "        0.31500214, 0.31494186, 0.31487848, 0.31481184, 0.31474182,\n",
       "        0.31466824, 0.31459097, 0.31450984, 0.3144247 , 0.31433536,\n",
       "        0.31424168, 0.31414346, 0.31404054, 0.31393275, 0.31381989,\n",
       "        0.31370179, 0.31357828, 0.31344915, 0.31331425, 0.31317337,\n",
       "        0.3723306 , 0.37234916, 0.37236468, 0.37237686, 0.3723854 ,\n",
       "        0.37238999, 0.37239029, 0.37238598, 0.37237668, 0.37236203,\n",
       "        0.37234164, 0.3723151 , 0.37228199, 0.37224189, 0.37219433,\n",
       "        0.37213884, 0.37207494, 0.37200214, 0.37191991, 0.37182773,\n",
       "        0.37172507, 0.37161136, 0.37148605, 0.37134857, 0.37119836,\n",
       "        0.37103485, 0.37085745, 0.37066561, 0.37045878, 0.3702364 ,\n",
       "        0.29892935, 0.2997573 , 0.30057845, 0.30139193, 0.30219682,\n",
       "        0.30299215, 0.30377692, 0.30455007, 0.30531054, 0.30605723,\n",
       "        0.30678904, 0.30750486, 0.3082036 , 0.30888417, 0.30954549,\n",
       "        0.31018654, 0.31080633, 0.3114039 , 0.31197837, 0.31252892,\n",
       "        0.3130548 , 0.31355533, 0.31402992, 0.31447807, 0.31489937,\n",
       "        0.31529352, 0.31566029, 0.31599955, 0.31631129, 0.31659556]),\n",
       " 'split2_test_score': array([0.31080916, 0.31079876, 0.31078774, 0.31077606, 0.3107637 ,\n",
       "        0.31075059, 0.31073671, 0.310722  , 0.31070642, 0.31068991,\n",
       "        0.31067241, 0.31065388, 0.31063423, 0.31061342, 0.31059137,\n",
       "        0.310568  , 0.31054324, 0.31051702, 0.31048923, 0.3104598 ,\n",
       "        0.31042863, 0.31039563, 0.31036068, 0.31032368, 0.31028453,\n",
       "        0.3102431 , 0.31019927, 0.31015291, 0.31010391, 0.31005211,\n",
       "        0.37103999, 0.37105267, 0.37106536, 0.371078  , 0.37109053,\n",
       "        0.37110288, 0.37111498, 0.37112672, 0.37113802, 0.37114877,\n",
       "        0.37115885, 0.37116813, 0.37117648, 0.37118374, 0.37118975,\n",
       "        0.37119433, 0.3711973 , 0.37119846, 0.37119759, 0.37119447,\n",
       "        0.37118886, 0.37118051, 0.37116916, 0.37115454, 0.37113636,\n",
       "        0.37111435, 0.37108821, 0.37105762, 0.3710223 , 0.37098192,\n",
       "        0.36268969, 0.36284588, 0.36300738, 0.36317445, 0.36334735,\n",
       "        0.36352637, 0.36371178, 0.36390389, 0.36410299, 0.36430938,\n",
       "        0.36452338, 0.36474527, 0.36497537, 0.36521398, 0.36546138,\n",
       "        0.36571787, 0.36598369, 0.36625912, 0.36654438, 0.36683969,\n",
       "        0.36714522, 0.36746113, 0.36778755, 0.36812456, 0.3684722 ,\n",
       "        0.36883048, 0.36919935, 0.36957872, 0.36996845, 0.37036833]),\n",
       " 'split3_test_score': array([0.253348  , 0.25333754, 0.25332651, 0.25331487, 0.2533026 ,\n",
       "        0.25328965, 0.25327601, 0.25326162, 0.25324646, 0.25323049,\n",
       "        0.25321366, 0.25319593, 0.25317727, 0.25315762, 0.25313695,\n",
       "        0.2531152 , 0.25309232, 0.25306828, 0.25304301, 0.25301647,\n",
       "        0.2529886 , 0.25295936, 0.25292868, 0.25289653, 0.25286284,\n",
       "        0.25282758, 0.25279067, 0.25275209, 0.25271178, 0.25266969,\n",
       "        0.29647634, 0.29645413, 0.29643045, 0.29640519, 0.29637827,\n",
       "        0.29634957, 0.29631897, 0.29628636, 0.29625162, 0.2962146 ,\n",
       "        0.29617518, 0.2961332 , 0.29608851, 0.29604097, 0.2959904 ,\n",
       "        0.29593663, 0.29587949, 0.29581881, 0.29575439, 0.29568606,\n",
       "        0.29561362, 0.29553688, 0.29545565, 0.29536974, 0.29527897,\n",
       "        0.29518314, 0.2950821 , 0.29497565, 0.29486366, 0.29474596,\n",
       "        0.21078244, 0.21127843, 0.21179007, 0.21231766, 0.21286146,\n",
       "        0.21342174, 0.21399877, 0.21459279, 0.21520404, 0.21583274,\n",
       "        0.21647908, 0.21714327, 0.21782545, 0.21852576, 0.2192443 ,\n",
       "        0.21998116, 0.22073637, 0.22150993, 0.2223018 , 0.2231119 ,\n",
       "        0.2239401 , 0.22478622, 0.22565003, 0.22653123, 0.22742949,\n",
       "        0.2283444 , 0.2292755 , 0.23022228, 0.23118415, 0.23216047]),\n",
       " 'split4_test_score': array([0.24096576, 0.2409587 , 0.24095123, 0.24094333, 0.24093497,\n",
       "        0.24092612, 0.24091676, 0.24090685, 0.24089636, 0.24088527,\n",
       "        0.24087354, 0.24086112, 0.24084799, 0.2408341 , 0.24081942,\n",
       "        0.24080389, 0.24078747, 0.24077012, 0.24075178, 0.24073241,\n",
       "        0.24071196, 0.24069035, 0.24066755, 0.2406435 , 0.24061813,\n",
       "        0.24059138, 0.2405632 , 0.24053352, 0.24050228, 0.24046942,\n",
       "        0.28155177, 0.28162827, 0.28170674, 0.28178719, 0.28186958,\n",
       "        0.28195391, 0.28204013, 0.28212822, 0.28221814, 0.28230984,\n",
       "        0.28240326, 0.28249835, 0.28259504, 0.28269326, 0.28279292,\n",
       "        0.28289392, 0.28299617, 0.28309956, 0.28320397, 0.28330928,\n",
       "        0.28341534, 0.28352203, 0.28362917, 0.28373663, 0.28384423,\n",
       "        0.2839518 , 0.28405917, 0.28416615, 0.28427257, 0.28437823,\n",
       "        0.29071676, 0.2908787 , 0.29104065, 0.29120273, 0.29136507,\n",
       "        0.29152779, 0.29169106, 0.29185504, 0.29201992, 0.29218589,\n",
       "        0.29235317, 0.29252197, 0.29269253, 0.29286509, 0.29303989,\n",
       "        0.29321719, 0.29339725, 0.29358031, 0.29376665, 0.29395652,\n",
       "        0.29415017, 0.29434784, 0.29454977, 0.29475618, 0.29496727,\n",
       "        0.29518324, 0.29540425, 0.29563044, 0.29586195, 0.29609885]),\n",
       " 'mean_test_score': array([ 0.27024059,  0.27027114,  0.27030293,  0.27033598,  0.27037032,\n",
       "         0.27040595,  0.27044288,  0.27048112,  0.27052067,  0.27056152,\n",
       "         0.27060366,  0.27064706,  0.2706917 ,  0.27073755,  0.27078455,\n",
       "         0.27083264,  0.27088176,  0.27093182,  0.27098274,  0.27103441,\n",
       "         0.2710867 ,  0.27113949,  0.27119262,  0.27124593,  0.27129925,\n",
       "         0.27135236,  0.27140508,  0.27145716,  0.27150837,  0.27155846,\n",
       "         0.30227658,  0.30256442,  0.30286286,  0.30317193,  0.3034916 ,\n",
       "         0.30382181,  0.30416245,  0.30451336,  0.30487432,  0.30524505,\n",
       "         0.30562523,  0.30601447,  0.30641229,  0.30681818,  0.30723156,\n",
       "         0.30765176,  0.30807807,  0.3085097 ,  0.30894581,  0.30938549,\n",
       "         0.30982777,  0.31027166,  0.31071609,  0.31115995,  0.31160213,\n",
       "         0.31204147,  0.31247679,  0.31290693,  0.31333069,  0.31374693,\n",
       "        -0.76177457, -0.7269238 , -0.69569835, -0.66788677, -0.64329107,\n",
       "        -0.62172624, -0.60301965, -0.58701033, -0.57354824, -0.56249351,\n",
       "        -0.55371553, -0.54709214, -0.54250875, -0.53985748, -0.53903629,\n",
       "        -0.53994815, -0.54250031, -0.54660349, -0.55217124, -0.55911931,\n",
       "        -0.56736511, -0.57682724, -0.58742509, -0.59907855, -0.61170781,\n",
       "        -0.62523319, -0.63957512, -0.65465417, -0.67039111, -0.68670716]),\n",
       " 'std_test_score': array([0.03580022, 0.03574296, 0.0356832 , 0.03562087, 0.03555591,\n",
       "        0.03548825, 0.03541784, 0.03534462, 0.03526854, 0.03518955,\n",
       "        0.03510763, 0.03502274, 0.03493486, 0.03484397, 0.03475007,\n",
       "        0.03465317, 0.03455327, 0.03445042, 0.03434464, 0.03423598,\n",
       "        0.03412451, 0.0340103 , 0.03389344, 0.03377404, 0.0336522 ,\n",
       "        0.03352804, 0.03340171, 0.03327335, 0.03314311, 0.03301117,\n",
       "        0.06741453, 0.0669662 , 0.0665    , 0.06601587, 0.0655138 ,\n",
       "        0.06499388, 0.06445627, 0.06390122, 0.06332907, 0.06274024,\n",
       "        0.06213526, 0.06151475, 0.06087945, 0.06023016, 0.05956782,\n",
       "        0.05889345, 0.05820815, 0.05751313, 0.05680966, 0.05609911,\n",
       "        0.05538289, 0.05466248, 0.05393939, 0.05321516, 0.05249136,\n",
       "        0.05176953, 0.05105122, 0.05033793, 0.04963113, 0.0489322 ,\n",
       "        2.1051648 , 2.03631853, 1.97472708, 1.91996737, 1.8716433 ,\n",
       "        1.82938469, 1.79284607, 1.76170535, 1.73566232, 1.71443706,\n",
       "        1.69776823, 1.6854114 , 1.67713728, 1.67273   , 1.67198541,\n",
       "        1.67470941, 1.6807164 , 1.68982779, 1.70187062, 1.71667635,\n",
       "        1.73407974, 1.75391794, 1.77602965, 1.8002546 , 1.82643305,\n",
       "        1.85440553, 1.88401275, 1.91509569, 1.94749571, 1.98105499]),\n",
       " 'rank_test_score': array([60, 59, 58, 57, 56, 55, 54, 53, 52, 51, 50, 49, 48, 47, 46, 45, 44,\n",
       "        43, 42, 41, 40, 39, 38, 37, 36, 35, 34, 33, 32, 31, 30, 29, 28, 27,\n",
       "        26, 25, 24, 23, 22, 21, 20, 19, 18, 17, 16, 15, 14, 13, 12, 11, 10,\n",
       "         9,  8,  7,  6,  5,  4,  3,  2,  1, 90, 89, 88, 85, 83, 80, 78, 75,\n",
       "        73, 71, 69, 67, 65, 62, 61, 63, 64, 66, 68, 70, 72, 74, 76, 77, 79,\n",
       "        81, 82, 84, 86, 87])}"
      ]
     },
     "execution_count": 241,
     "metadata": {},
     "output_type": "execute_result"
    }
   ],
   "source": [
    "grid.cv_results_"
   ]
  },
  {
   "cell_type": "markdown",
   "metadata": {},
   "source": [
    "`Ridge` or `Lasso`, performs best with its optimal hyperparameters on the wine dataset.\n",
    "\n",
    "### Conclusion"
   ]
  },
  {
   "cell_type": "markdown",
   "metadata": {},
   "source": [
    "Linear Regression  | scores\n",
    "------------------ | -------------\n",
    "Plain              | 0.2696\n",
    "Lasso              | 0.3137\n",
    "Ridge              | 0.3485"
   ]
  },
  {
   "cell_type": "markdown",
   "metadata": {},
   "source": [
    "Both `Lasso` and `Ridge` with proper hyperparameter tuning give better results than plain Linear Regression!"
   ]
  },
  {
   "cell_type": "markdown",
   "metadata": {},
   "source": [
    "Reference:\n",
    "\n",
    "- https://github.com/jmportilla/Udemy---Machine-Learning/blob/master/Supervised%20Learning%20-%20%20Linear%20Regression.ipynb"
   ]
  }
 ],
 "metadata": {
  "kernelspec": {
   "display_name": "Python 3",
   "language": "python",
   "name": "python3"
  },
  "language_info": {
   "codemirror_mode": {
    "name": "ipython",
    "version": 3
   },
   "file_extension": ".py",
   "mimetype": "text/x-python",
   "name": "python",
   "nbconvert_exporter": "python",
   "pygments_lexer": "ipython3",
   "version": "3.7.3"
  }
 },
 "nbformat": 4,
 "nbformat_minor": 2
}
